{
  "nbformat": 4,
  "nbformat_minor": 0,
  "metadata": {
    "colab": {
      "provenance": [],
      "mount_file_id": "1lAUYn_Pmg3EiyfQDKvDomXKyaW3EKwZj",
      "authorship_tag": "ABX9TyNZ+zch01+8caen/Lmz8kgP"
    },
    "kernelspec": {
      "name": "python3",
      "display_name": "Python 3"
    },
    "language_info": {
      "name": "python"
    }
  },
  "cells": [
    {
      "cell_type": "markdown",
      "source": [
        "1. Work Process\n",
        "\n",
        "1) Data Collection\n",
        "- Total nine variables: Macro (ip, US and EU money),index (DJIA), currency (Norway Krona (inverse included), Euro), Coal price, US interest rate (10Yr)\n",
        "\n",
        "2) Preprocessing\n",
        "- ARIMA: Stationarity, Residual, p.d.q\n",
        "- LSTM: Training-Test Split, validation\n",
        "\n",
        "3) Model Selection\n",
        "- ARIMA, ML. DL\n",
        "\n",
        "4) Evaluation\n",
        "a. ARIMA:  \n",
        " - MSE: 1907.437516093254\n",
        " - MAE: 1400.4750000000004\n",
        " - MAPE: 0.04530564449162539\n",
        "\n",
        "b. LSTM\n",
        " - MSE: 2203.1874311174174\n",
        " - MAE: 1569.380260416665\n",
        " - MAPE: 0.05147524072407283\n",
        "\n",
        "5) Result\n",
        " To compare the performance of ARIMA and LSTM shows that of ARIMA is slightly better than LSTM with eight valriables with indicators like MSE, MAE, and MAPE. \n",
        "ARIMA has accuracy of 95.5% and LSTM 94.9% with 1907 and 2203 of MSE each. \n",
        "\n",
        "2. Blog address\n",
        " https://github.com/pangsoo/midterm.git"
      ],
      "metadata": {
        "id": "7m_tapp-2Ml7"
      }
    },
    {
      "cell_type": "code",
      "execution_count": 1,
      "metadata": {
        "colab": {
          "base_uri": "https://localhost:8080/"
        },
        "id": "Bfd0zX4tCyWr",
        "outputId": "d16dac2e-ebe8-402f-f7b9-9d05b737ea41"
      },
      "outputs": [
        {
          "output_type": "stream",
          "name": "stdout",
          "text": [
            "Drive already mounted at /content/drive; to attempt to forcibly remount, call drive.mount(\"/content/drive\", force_remount=True).\n"
          ]
        }
      ],
      "source": [
        "import pandas as pd\n",
        "import numpy as np\n",
        "import matplotlib.pyplot as plt\n",
        "import statsmodels.api as sm\n",
        "from statsmodels.graphics.tsaplots import plot_predict\n",
        "from statsmodels.tsa.arima.model import ARIMA\n",
        "from google.colab import drive\n",
        "from sklearn.metrics import mean_squared_error, mean_absolute_error\n",
        "from sklearn.metrics import accuracy_score\n",
        "import math\n",
        "import time\n",
        "import datetime\n",
        "\n",
        "drive.mount('/content/drive')\n"
      ]
    },
    {
      "cell_type": "code",
      "source": [
        "url = \"https://raw.githubusercontent.com/pangsoo/midterm/main/middata.csv\"\n",
        "df = pd.read_csv(url)\n",
        "df"
      ],
      "metadata": {
        "colab": {
          "base_uri": "https://localhost:8080/",
          "height": 661
        },
        "id": "zEMsN3YsYSt5",
        "outputId": "8d7775e6-dfa2-4e3c-abdc-9f59049e9ee6"
      },
      "execution_count": 2,
      "outputs": [
        {
          "output_type": "execute_result",
          "data": {
            "text/plain": [
              "        date        dji     eur  10yr_R  eu_money  us_money        ip    coal  \\\n",
              "0    2010-01  10,067.33  1.3863   3.588      1155    1995.0   89.1936   95.30   \n",
              "1    2010-02  10,325.26  1.3626   3.619      1163    2115.2   89.5089   93.85   \n",
              "2    2010-03  10,856.63  1.3512   3.833      1183    2079.6   90.1449   94.95   \n",
              "3    2010-04  11,008.61  1.3298   3.659      1206    2014.4   90.4740  103.85   \n",
              "4    2010-05  10,136.63  1.2306   3.303      1227    2012.3   91.7131  100.20   \n",
              "..       ...        ...     ...     ...       ...       ...       ...     ...   \n",
              "152  2022-09  28,730.12  0.9799   3.829      6228    5410.9  104.5740  433.70   \n",
              "153  2022-10  32,734.40  0.9883   4.050      6307    5339.6  104.5927  356.30   \n",
              "154  2022-11  34,587.46  1.0405   3.611      6386    5418.7  103.9846  397.00   \n",
              "155  2022-12  33,147.28  1.0702   3.879      6296    5405.4  102.9256  404.15   \n",
              "156  2023-01  34,086.89  1.0861   3.510      6054    5328.4  102.9525  251.75   \n",
              "\n",
              "         nok   usd-nok  \n",
              "0     5.9270  0.168719  \n",
              "1     5.9058  0.169325  \n",
              "2     5.9395  0.168364  \n",
              "3     5.9060  0.169319  \n",
              "4     6.4550  0.154919  \n",
              "..       ...       ...  \n",
              "152  10.8821  0.091894  \n",
              "153  10.3835  0.096307  \n",
              "154   9.8382  0.101645  \n",
              "155   9.7965  0.102077  \n",
              "156   9.9846  0.100154  \n",
              "\n",
              "[157 rows x 10 columns]"
            ],
            "text/html": [
              "\n",
              "  <div id=\"df-3423ceca-9c91-4169-ae31-0e4d700e1b4f\">\n",
              "    <div class=\"colab-df-container\">\n",
              "      <div>\n",
              "<style scoped>\n",
              "    .dataframe tbody tr th:only-of-type {\n",
              "        vertical-align: middle;\n",
              "    }\n",
              "\n",
              "    .dataframe tbody tr th {\n",
              "        vertical-align: top;\n",
              "    }\n",
              "\n",
              "    .dataframe thead th {\n",
              "        text-align: right;\n",
              "    }\n",
              "</style>\n",
              "<table border=\"1\" class=\"dataframe\">\n",
              "  <thead>\n",
              "    <tr style=\"text-align: right;\">\n",
              "      <th></th>\n",
              "      <th>date</th>\n",
              "      <th>dji</th>\n",
              "      <th>eur</th>\n",
              "      <th>10yr_R</th>\n",
              "      <th>eu_money</th>\n",
              "      <th>us_money</th>\n",
              "      <th>ip</th>\n",
              "      <th>coal</th>\n",
              "      <th>nok</th>\n",
              "      <th>usd-nok</th>\n",
              "    </tr>\n",
              "  </thead>\n",
              "  <tbody>\n",
              "    <tr>\n",
              "      <th>0</th>\n",
              "      <td>2010-01</td>\n",
              "      <td>10,067.33</td>\n",
              "      <td>1.3863</td>\n",
              "      <td>3.588</td>\n",
              "      <td>1155</td>\n",
              "      <td>1995.0</td>\n",
              "      <td>89.1936</td>\n",
              "      <td>95.30</td>\n",
              "      <td>5.9270</td>\n",
              "      <td>0.168719</td>\n",
              "    </tr>\n",
              "    <tr>\n",
              "      <th>1</th>\n",
              "      <td>2010-02</td>\n",
              "      <td>10,325.26</td>\n",
              "      <td>1.3626</td>\n",
              "      <td>3.619</td>\n",
              "      <td>1163</td>\n",
              "      <td>2115.2</td>\n",
              "      <td>89.5089</td>\n",
              "      <td>93.85</td>\n",
              "      <td>5.9058</td>\n",
              "      <td>0.169325</td>\n",
              "    </tr>\n",
              "    <tr>\n",
              "      <th>2</th>\n",
              "      <td>2010-03</td>\n",
              "      <td>10,856.63</td>\n",
              "      <td>1.3512</td>\n",
              "      <td>3.833</td>\n",
              "      <td>1183</td>\n",
              "      <td>2079.6</td>\n",
              "      <td>90.1449</td>\n",
              "      <td>94.95</td>\n",
              "      <td>5.9395</td>\n",
              "      <td>0.168364</td>\n",
              "    </tr>\n",
              "    <tr>\n",
              "      <th>3</th>\n",
              "      <td>2010-04</td>\n",
              "      <td>11,008.61</td>\n",
              "      <td>1.3298</td>\n",
              "      <td>3.659</td>\n",
              "      <td>1206</td>\n",
              "      <td>2014.4</td>\n",
              "      <td>90.4740</td>\n",
              "      <td>103.85</td>\n",
              "      <td>5.9060</td>\n",
              "      <td>0.169319</td>\n",
              "    </tr>\n",
              "    <tr>\n",
              "      <th>4</th>\n",
              "      <td>2010-05</td>\n",
              "      <td>10,136.63</td>\n",
              "      <td>1.2306</td>\n",
              "      <td>3.303</td>\n",
              "      <td>1227</td>\n",
              "      <td>2012.3</td>\n",
              "      <td>91.7131</td>\n",
              "      <td>100.20</td>\n",
              "      <td>6.4550</td>\n",
              "      <td>0.154919</td>\n",
              "    </tr>\n",
              "    <tr>\n",
              "      <th>...</th>\n",
              "      <td>...</td>\n",
              "      <td>...</td>\n",
              "      <td>...</td>\n",
              "      <td>...</td>\n",
              "      <td>...</td>\n",
              "      <td>...</td>\n",
              "      <td>...</td>\n",
              "      <td>...</td>\n",
              "      <td>...</td>\n",
              "      <td>...</td>\n",
              "    </tr>\n",
              "    <tr>\n",
              "      <th>152</th>\n",
              "      <td>2022-09</td>\n",
              "      <td>28,730.12</td>\n",
              "      <td>0.9799</td>\n",
              "      <td>3.829</td>\n",
              "      <td>6228</td>\n",
              "      <td>5410.9</td>\n",
              "      <td>104.5740</td>\n",
              "      <td>433.70</td>\n",
              "      <td>10.8821</td>\n",
              "      <td>0.091894</td>\n",
              "    </tr>\n",
              "    <tr>\n",
              "      <th>153</th>\n",
              "      <td>2022-10</td>\n",
              "      <td>32,734.40</td>\n",
              "      <td>0.9883</td>\n",
              "      <td>4.050</td>\n",
              "      <td>6307</td>\n",
              "      <td>5339.6</td>\n",
              "      <td>104.5927</td>\n",
              "      <td>356.30</td>\n",
              "      <td>10.3835</td>\n",
              "      <td>0.096307</td>\n",
              "    </tr>\n",
              "    <tr>\n",
              "      <th>154</th>\n",
              "      <td>2022-11</td>\n",
              "      <td>34,587.46</td>\n",
              "      <td>1.0405</td>\n",
              "      <td>3.611</td>\n",
              "      <td>6386</td>\n",
              "      <td>5418.7</td>\n",
              "      <td>103.9846</td>\n",
              "      <td>397.00</td>\n",
              "      <td>9.8382</td>\n",
              "      <td>0.101645</td>\n",
              "    </tr>\n",
              "    <tr>\n",
              "      <th>155</th>\n",
              "      <td>2022-12</td>\n",
              "      <td>33,147.28</td>\n",
              "      <td>1.0702</td>\n",
              "      <td>3.879</td>\n",
              "      <td>6296</td>\n",
              "      <td>5405.4</td>\n",
              "      <td>102.9256</td>\n",
              "      <td>404.15</td>\n",
              "      <td>9.7965</td>\n",
              "      <td>0.102077</td>\n",
              "    </tr>\n",
              "    <tr>\n",
              "      <th>156</th>\n",
              "      <td>2023-01</td>\n",
              "      <td>34,086.89</td>\n",
              "      <td>1.0861</td>\n",
              "      <td>3.510</td>\n",
              "      <td>6054</td>\n",
              "      <td>5328.4</td>\n",
              "      <td>102.9525</td>\n",
              "      <td>251.75</td>\n",
              "      <td>9.9846</td>\n",
              "      <td>0.100154</td>\n",
              "    </tr>\n",
              "  </tbody>\n",
              "</table>\n",
              "<p>157 rows × 10 columns</p>\n",
              "</div>\n",
              "      <button class=\"colab-df-convert\" onclick=\"convertToInteractive('df-3423ceca-9c91-4169-ae31-0e4d700e1b4f')\"\n",
              "              title=\"Convert this dataframe to an interactive table.\"\n",
              "              style=\"display:none;\">\n",
              "        \n",
              "  <svg xmlns=\"http://www.w3.org/2000/svg\" height=\"24px\"viewBox=\"0 0 24 24\"\n",
              "       width=\"24px\">\n",
              "    <path d=\"M0 0h24v24H0V0z\" fill=\"none\"/>\n",
              "    <path d=\"M18.56 5.44l.94 2.06.94-2.06 2.06-.94-2.06-.94-.94-2.06-.94 2.06-2.06.94zm-11 1L8.5 8.5l.94-2.06 2.06-.94-2.06-.94L8.5 2.5l-.94 2.06-2.06.94zm10 10l.94 2.06.94-2.06 2.06-.94-2.06-.94-.94-2.06-.94 2.06-2.06.94z\"/><path d=\"M17.41 7.96l-1.37-1.37c-.4-.4-.92-.59-1.43-.59-.52 0-1.04.2-1.43.59L10.3 9.45l-7.72 7.72c-.78.78-.78 2.05 0 2.83L4 21.41c.39.39.9.59 1.41.59.51 0 1.02-.2 1.41-.59l7.78-7.78 2.81-2.81c.8-.78.8-2.07 0-2.86zM5.41 20L4 18.59l7.72-7.72 1.47 1.35L5.41 20z\"/>\n",
              "  </svg>\n",
              "      </button>\n",
              "      \n",
              "  <style>\n",
              "    .colab-df-container {\n",
              "      display:flex;\n",
              "      flex-wrap:wrap;\n",
              "      gap: 12px;\n",
              "    }\n",
              "\n",
              "    .colab-df-convert {\n",
              "      background-color: #E8F0FE;\n",
              "      border: none;\n",
              "      border-radius: 50%;\n",
              "      cursor: pointer;\n",
              "      display: none;\n",
              "      fill: #1967D2;\n",
              "      height: 32px;\n",
              "      padding: 0 0 0 0;\n",
              "      width: 32px;\n",
              "    }\n",
              "\n",
              "    .colab-df-convert:hover {\n",
              "      background-color: #E2EBFA;\n",
              "      box-shadow: 0px 1px 2px rgba(60, 64, 67, 0.3), 0px 1px 3px 1px rgba(60, 64, 67, 0.15);\n",
              "      fill: #174EA6;\n",
              "    }\n",
              "\n",
              "    [theme=dark] .colab-df-convert {\n",
              "      background-color: #3B4455;\n",
              "      fill: #D2E3FC;\n",
              "    }\n",
              "\n",
              "    [theme=dark] .colab-df-convert:hover {\n",
              "      background-color: #434B5C;\n",
              "      box-shadow: 0px 1px 3px 1px rgba(0, 0, 0, 0.15);\n",
              "      filter: drop-shadow(0px 1px 2px rgba(0, 0, 0, 0.3));\n",
              "      fill: #FFFFFF;\n",
              "    }\n",
              "  </style>\n",
              "\n",
              "      <script>\n",
              "        const buttonEl =\n",
              "          document.querySelector('#df-3423ceca-9c91-4169-ae31-0e4d700e1b4f button.colab-df-convert');\n",
              "        buttonEl.style.display =\n",
              "          google.colab.kernel.accessAllowed ? 'block' : 'none';\n",
              "\n",
              "        async function convertToInteractive(key) {\n",
              "          const element = document.querySelector('#df-3423ceca-9c91-4169-ae31-0e4d700e1b4f');\n",
              "          const dataTable =\n",
              "            await google.colab.kernel.invokeFunction('convertToInteractive',\n",
              "                                                     [key], {});\n",
              "          if (!dataTable) return;\n",
              "\n",
              "          const docLinkHtml = 'Like what you see? Visit the ' +\n",
              "            '<a target=\"_blank\" href=https://colab.research.google.com/notebooks/data_table.ipynb>data table notebook</a>'\n",
              "            + ' to learn more about interactive tables.';\n",
              "          element.innerHTML = '';\n",
              "          dataTable['output_type'] = 'display_data';\n",
              "          await google.colab.output.renderOutput(dataTable, element);\n",
              "          const docLink = document.createElement('div');\n",
              "          docLink.innerHTML = docLinkHtml;\n",
              "          element.appendChild(docLink);\n",
              "        }\n",
              "      </script>\n",
              "    </div>\n",
              "  </div>\n",
              "  "
            ]
          },
          "metadata": {},
          "execution_count": 2
        }
      ]
    },
    {
      "cell_type": "code",
      "source": [
        "df.info()"
      ],
      "metadata": {
        "colab": {
          "base_uri": "https://localhost:8080/"
        },
        "id": "dGH_dLriZa60",
        "outputId": "83741ea4-1872-42d3-e2d2-25bea8acef05"
      },
      "execution_count": 3,
      "outputs": [
        {
          "output_type": "stream",
          "name": "stdout",
          "text": [
            "<class 'pandas.core.frame.DataFrame'>\n",
            "RangeIndex: 157 entries, 0 to 156\n",
            "Data columns (total 10 columns):\n",
            " #   Column    Non-Null Count  Dtype  \n",
            "---  ------    --------------  -----  \n",
            " 0   date      157 non-null    object \n",
            " 1   dji       157 non-null    object \n",
            " 2   eur       157 non-null    float64\n",
            " 3   10yr_R    157 non-null    float64\n",
            " 4   eu_money  157 non-null    int64  \n",
            " 5   us_money  157 non-null    float64\n",
            " 6   ip        157 non-null    float64\n",
            " 7   coal      157 non-null    float64\n",
            " 8   nok       157 non-null    float64\n",
            " 9   usd-nok   157 non-null    float64\n",
            "dtypes: float64(7), int64(1), object(2)\n",
            "memory usage: 12.4+ KB\n"
          ]
        }
      ]
    },
    {
      "cell_type": "code",
      "source": [
        "# Conver to the time series\n",
        "# Set index as time\n",
        "\n",
        "df['date'] = pd.to_datetime(df['date'], format = '%Y-%m')\n",
        "df.index = df['date']\n",
        "df.set_index('date', inplace = True)\n"
      ],
      "metadata": {
        "id": "HaPzqK4LQb3-"
      },
      "execution_count": 4,
      "outputs": []
    },
    {
      "cell_type": "code",
      "source": [
        "df['dji'] = df['dji'].str.replace(',', '').astype(float)\n",
        "df.head()"
      ],
      "metadata": {
        "colab": {
          "base_uri": "https://localhost:8080/",
          "height": 388
        },
        "id": "48zfjZfddOXw",
        "outputId": "3981df78-dd8a-4867-eda1-f7095a83c613"
      },
      "execution_count": 5,
      "outputs": [
        {
          "output_type": "execute_result",
          "data": {
            "text/plain": [
              "                 dji     eur  10yr_R  eu_money  us_money       ip    coal  \\\n",
              "date                                                                        \n",
              "2010-01-01  10067.33  1.3863   3.588      1155    1995.0  89.1936   95.30   \n",
              "2010-02-01  10325.26  1.3626   3.619      1163    2115.2  89.5089   93.85   \n",
              "2010-03-01  10856.63  1.3512   3.833      1183    2079.6  90.1449   94.95   \n",
              "2010-04-01  11008.61  1.3298   3.659      1206    2014.4  90.4740  103.85   \n",
              "2010-05-01  10136.63  1.2306   3.303      1227    2012.3  91.7131  100.20   \n",
              "\n",
              "               nok   usd-nok  \n",
              "date                          \n",
              "2010-01-01  5.9270  0.168719  \n",
              "2010-02-01  5.9058  0.169325  \n",
              "2010-03-01  5.9395  0.168364  \n",
              "2010-04-01  5.9060  0.169319  \n",
              "2010-05-01  6.4550  0.154919  "
            ],
            "text/html": [
              "\n",
              "  <div id=\"df-003482dc-c8a0-4514-ad23-c1a2807c88fb\">\n",
              "    <div class=\"colab-df-container\">\n",
              "      <div>\n",
              "<style scoped>\n",
              "    .dataframe tbody tr th:only-of-type {\n",
              "        vertical-align: middle;\n",
              "    }\n",
              "\n",
              "    .dataframe tbody tr th {\n",
              "        vertical-align: top;\n",
              "    }\n",
              "\n",
              "    .dataframe thead th {\n",
              "        text-align: right;\n",
              "    }\n",
              "</style>\n",
              "<table border=\"1\" class=\"dataframe\">\n",
              "  <thead>\n",
              "    <tr style=\"text-align: right;\">\n",
              "      <th></th>\n",
              "      <th>dji</th>\n",
              "      <th>eur</th>\n",
              "      <th>10yr_R</th>\n",
              "      <th>eu_money</th>\n",
              "      <th>us_money</th>\n",
              "      <th>ip</th>\n",
              "      <th>coal</th>\n",
              "      <th>nok</th>\n",
              "      <th>usd-nok</th>\n",
              "    </tr>\n",
              "    <tr>\n",
              "      <th>date</th>\n",
              "      <th></th>\n",
              "      <th></th>\n",
              "      <th></th>\n",
              "      <th></th>\n",
              "      <th></th>\n",
              "      <th></th>\n",
              "      <th></th>\n",
              "      <th></th>\n",
              "      <th></th>\n",
              "    </tr>\n",
              "  </thead>\n",
              "  <tbody>\n",
              "    <tr>\n",
              "      <th>2010-01-01</th>\n",
              "      <td>10067.33</td>\n",
              "      <td>1.3863</td>\n",
              "      <td>3.588</td>\n",
              "      <td>1155</td>\n",
              "      <td>1995.0</td>\n",
              "      <td>89.1936</td>\n",
              "      <td>95.30</td>\n",
              "      <td>5.9270</td>\n",
              "      <td>0.168719</td>\n",
              "    </tr>\n",
              "    <tr>\n",
              "      <th>2010-02-01</th>\n",
              "      <td>10325.26</td>\n",
              "      <td>1.3626</td>\n",
              "      <td>3.619</td>\n",
              "      <td>1163</td>\n",
              "      <td>2115.2</td>\n",
              "      <td>89.5089</td>\n",
              "      <td>93.85</td>\n",
              "      <td>5.9058</td>\n",
              "      <td>0.169325</td>\n",
              "    </tr>\n",
              "    <tr>\n",
              "      <th>2010-03-01</th>\n",
              "      <td>10856.63</td>\n",
              "      <td>1.3512</td>\n",
              "      <td>3.833</td>\n",
              "      <td>1183</td>\n",
              "      <td>2079.6</td>\n",
              "      <td>90.1449</td>\n",
              "      <td>94.95</td>\n",
              "      <td>5.9395</td>\n",
              "      <td>0.168364</td>\n",
              "    </tr>\n",
              "    <tr>\n",
              "      <th>2010-04-01</th>\n",
              "      <td>11008.61</td>\n",
              "      <td>1.3298</td>\n",
              "      <td>3.659</td>\n",
              "      <td>1206</td>\n",
              "      <td>2014.4</td>\n",
              "      <td>90.4740</td>\n",
              "      <td>103.85</td>\n",
              "      <td>5.9060</td>\n",
              "      <td>0.169319</td>\n",
              "    </tr>\n",
              "    <tr>\n",
              "      <th>2010-05-01</th>\n",
              "      <td>10136.63</td>\n",
              "      <td>1.2306</td>\n",
              "      <td>3.303</td>\n",
              "      <td>1227</td>\n",
              "      <td>2012.3</td>\n",
              "      <td>91.7131</td>\n",
              "      <td>100.20</td>\n",
              "      <td>6.4550</td>\n",
              "      <td>0.154919</td>\n",
              "    </tr>\n",
              "  </tbody>\n",
              "</table>\n",
              "</div>\n",
              "      <button class=\"colab-df-convert\" onclick=\"convertToInteractive('df-003482dc-c8a0-4514-ad23-c1a2807c88fb')\"\n",
              "              title=\"Convert this dataframe to an interactive table.\"\n",
              "              style=\"display:none;\">\n",
              "        \n",
              "  <svg xmlns=\"http://www.w3.org/2000/svg\" height=\"24px\"viewBox=\"0 0 24 24\"\n",
              "       width=\"24px\">\n",
              "    <path d=\"M0 0h24v24H0V0z\" fill=\"none\"/>\n",
              "    <path d=\"M18.56 5.44l.94 2.06.94-2.06 2.06-.94-2.06-.94-.94-2.06-.94 2.06-2.06.94zm-11 1L8.5 8.5l.94-2.06 2.06-.94-2.06-.94L8.5 2.5l-.94 2.06-2.06.94zm10 10l.94 2.06.94-2.06 2.06-.94-2.06-.94-.94-2.06-.94 2.06-2.06.94z\"/><path d=\"M17.41 7.96l-1.37-1.37c-.4-.4-.92-.59-1.43-.59-.52 0-1.04.2-1.43.59L10.3 9.45l-7.72 7.72c-.78.78-.78 2.05 0 2.83L4 21.41c.39.39.9.59 1.41.59.51 0 1.02-.2 1.41-.59l7.78-7.78 2.81-2.81c.8-.78.8-2.07 0-2.86zM5.41 20L4 18.59l7.72-7.72 1.47 1.35L5.41 20z\"/>\n",
              "  </svg>\n",
              "      </button>\n",
              "      \n",
              "  <style>\n",
              "    .colab-df-container {\n",
              "      display:flex;\n",
              "      flex-wrap:wrap;\n",
              "      gap: 12px;\n",
              "    }\n",
              "\n",
              "    .colab-df-convert {\n",
              "      background-color: #E8F0FE;\n",
              "      border: none;\n",
              "      border-radius: 50%;\n",
              "      cursor: pointer;\n",
              "      display: none;\n",
              "      fill: #1967D2;\n",
              "      height: 32px;\n",
              "      padding: 0 0 0 0;\n",
              "      width: 32px;\n",
              "    }\n",
              "\n",
              "    .colab-df-convert:hover {\n",
              "      background-color: #E2EBFA;\n",
              "      box-shadow: 0px 1px 2px rgba(60, 64, 67, 0.3), 0px 1px 3px 1px rgba(60, 64, 67, 0.15);\n",
              "      fill: #174EA6;\n",
              "    }\n",
              "\n",
              "    [theme=dark] .colab-df-convert {\n",
              "      background-color: #3B4455;\n",
              "      fill: #D2E3FC;\n",
              "    }\n",
              "\n",
              "    [theme=dark] .colab-df-convert:hover {\n",
              "      background-color: #434B5C;\n",
              "      box-shadow: 0px 1px 3px 1px rgba(0, 0, 0, 0.15);\n",
              "      filter: drop-shadow(0px 1px 2px rgba(0, 0, 0, 0.3));\n",
              "      fill: #FFFFFF;\n",
              "    }\n",
              "  </style>\n",
              "\n",
              "      <script>\n",
              "        const buttonEl =\n",
              "          document.querySelector('#df-003482dc-c8a0-4514-ad23-c1a2807c88fb button.colab-df-convert');\n",
              "        buttonEl.style.display =\n",
              "          google.colab.kernel.accessAllowed ? 'block' : 'none';\n",
              "\n",
              "        async function convertToInteractive(key) {\n",
              "          const element = document.querySelector('#df-003482dc-c8a0-4514-ad23-c1a2807c88fb');\n",
              "          const dataTable =\n",
              "            await google.colab.kernel.invokeFunction('convertToInteractive',\n",
              "                                                     [key], {});\n",
              "          if (!dataTable) return;\n",
              "\n",
              "          const docLinkHtml = 'Like what you see? Visit the ' +\n",
              "            '<a target=\"_blank\" href=https://colab.research.google.com/notebooks/data_table.ipynb>data table notebook</a>'\n",
              "            + ' to learn more about interactive tables.';\n",
              "          element.innerHTML = '';\n",
              "          dataTable['output_type'] = 'display_data';\n",
              "          await google.colab.output.renderOutput(dataTable, element);\n",
              "          const docLink = document.createElement('div');\n",
              "          docLink.innerHTML = docLinkHtml;\n",
              "          element.appendChild(docLink);\n",
              "        }\n",
              "      </script>\n",
              "    </div>\n",
              "  </div>\n",
              "  "
            ]
          },
          "metadata": {},
          "execution_count": 5
        }
      ]
    },
    {
      "cell_type": "code",
      "source": [
        "df.info()"
      ],
      "metadata": {
        "colab": {
          "base_uri": "https://localhost:8080/"
        },
        "id": "ssitKOWNeM4c",
        "outputId": "796cb183-e157-48ee-c775-99f869bbdd0b"
      },
      "execution_count": 6,
      "outputs": [
        {
          "output_type": "stream",
          "name": "stdout",
          "text": [
            "<class 'pandas.core.frame.DataFrame'>\n",
            "DatetimeIndex: 157 entries, 2010-01-01 to 2023-01-01\n",
            "Data columns (total 9 columns):\n",
            " #   Column    Non-Null Count  Dtype  \n",
            "---  ------    --------------  -----  \n",
            " 0   dji       157 non-null    float64\n",
            " 1   eur       157 non-null    float64\n",
            " 2   10yr_R    157 non-null    float64\n",
            " 3   eu_money  157 non-null    int64  \n",
            " 4   us_money  157 non-null    float64\n",
            " 5   ip        157 non-null    float64\n",
            " 6   coal      157 non-null    float64\n",
            " 7   nok       157 non-null    float64\n",
            " 8   usd-nok   157 non-null    float64\n",
            "dtypes: float64(8), int64(1)\n",
            "memory usage: 12.3 KB\n"
          ]
        }
      ]
    },
    {
      "cell_type": "code",
      "source": [
        "import matplotlib.pyplot as plt\n",
        "\n",
        "df.plot()\n",
        "plt.show()"
      ],
      "metadata": {
        "colab": {
          "base_uri": "https://localhost:8080/",
          "height": 279
        },
        "id": "7C01xf67zIkF",
        "outputId": "c4ea5715-f232-4b22-d900-5ae736e8834e"
      },
      "execution_count": 7,
      "outputs": [
        {
          "output_type": "display_data",
          "data": {
            "text/plain": [
              "<Figure size 432x288 with 1 Axes>"
            ],
            "image/png": "[encoded data removed]"
          },
          "metadata": {
            "needs_background": "light"
          }
        }
      ]
    },
    {
      "cell_type": "code",
      "source": [
        "stock = df.iloc[:, [0]]\n",
        "stock.tail()"
      ],
      "metadata": {
        "colab": {
          "base_uri": "https://localhost:8080/",
          "height": 237
        },
        "id": "C0n_fZbESx6R",
        "outputId": "b72e37ef-a120-408b-9080-b54c57c12a28"
      },
      "execution_count": 8,
      "outputs": [
        {
          "output_type": "execute_result",
          "data": {
            "text/plain": [
              "                 dji\n",
              "date                \n",
              "2022-09-01  28730.12\n",
              "2022-10-01  32734.40\n",
              "2022-11-01  34587.46\n",
              "2022-12-01  33147.28\n",
              "2023-01-01  34086.89"
            ],
            "text/html": [
              "\n",
              "  <div id=\"df-c37a7117-a107-4d34-96b0-0008006219f7\">\n",
              "    <div class=\"colab-df-container\">\n",
              "      <div>\n",
              "<style scoped>\n",
              "    .dataframe tbody tr th:only-of-type {\n",
              "        vertical-align: middle;\n",
              "    }\n",
              "\n",
              "    .dataframe tbody tr th {\n",
              "        vertical-align: top;\n",
              "    }\n",
              "\n",
              "    .dataframe thead th {\n",
              "        text-align: right;\n",
              "    }\n",
              "</style>\n",
              "<table border=\"1\" class=\"dataframe\">\n",
              "  <thead>\n",
              "    <tr style=\"text-align: right;\">\n",
              "      <th></th>\n",
              "      <th>dji</th>\n",
              "    </tr>\n",
              "    <tr>\n",
              "      <th>date</th>\n",
              "      <th></th>\n",
              "    </tr>\n",
              "  </thead>\n",
              "  <tbody>\n",
              "    <tr>\n",
              "      <th>2022-09-01</th>\n",
              "      <td>28730.12</td>\n",
              "    </tr>\n",
              "    <tr>\n",
              "      <th>2022-10-01</th>\n",
              "      <td>32734.40</td>\n",
              "    </tr>\n",
              "    <tr>\n",
              "      <th>2022-11-01</th>\n",
              "      <td>34587.46</td>\n",
              "    </tr>\n",
              "    <tr>\n",
              "      <th>2022-12-01</th>\n",
              "      <td>33147.28</td>\n",
              "    </tr>\n",
              "    <tr>\n",
              "      <th>2023-01-01</th>\n",
              "      <td>34086.89</td>\n",
              "    </tr>\n",
              "  </tbody>\n",
              "</table>\n",
              "</div>\n",
              "      <button class=\"colab-df-convert\" onclick=\"convertToInteractive('df-c37a7117-a107-4d34-96b0-0008006219f7')\"\n",
              "              title=\"Convert this dataframe to an interactive table.\"\n",
              "              style=\"display:none;\">\n",
              "        \n",
              "  <svg xmlns=\"http://www.w3.org/2000/svg\" height=\"24px\"viewBox=\"0 0 24 24\"\n",
              "       width=\"24px\">\n",
              "    <path d=\"M0 0h24v24H0V0z\" fill=\"none\"/>\n",
              "    <path d=\"M18.56 5.44l.94 2.06.94-2.06 2.06-.94-2.06-.94-.94-2.06-.94 2.06-2.06.94zm-11 1L8.5 8.5l.94-2.06 2.06-.94-2.06-.94L8.5 2.5l-.94 2.06-2.06.94zm10 10l.94 2.06.94-2.06 2.06-.94-2.06-.94-.94-2.06-.94 2.06-2.06.94z\"/><path d=\"M17.41 7.96l-1.37-1.37c-.4-.4-.92-.59-1.43-.59-.52 0-1.04.2-1.43.59L10.3 9.45l-7.72 7.72c-.78.78-.78 2.05 0 2.83L4 21.41c.39.39.9.59 1.41.59.51 0 1.02-.2 1.41-.59l7.78-7.78 2.81-2.81c.8-.78.8-2.07 0-2.86zM5.41 20L4 18.59l7.72-7.72 1.47 1.35L5.41 20z\"/>\n",
              "  </svg>\n",
              "      </button>\n",
              "      \n",
              "  <style>\n",
              "    .colab-df-container {\n",
              "      display:flex;\n",
              "      flex-wrap:wrap;\n",
              "      gap: 12px;\n",
              "    }\n",
              "\n",
              "    .colab-df-convert {\n",
              "      background-color: #E8F0FE;\n",
              "      border: none;\n",
              "      border-radius: 50%;\n",
              "      cursor: pointer;\n",
              "      display: none;\n",
              "      fill: #1967D2;\n",
              "      height: 32px;\n",
              "      padding: 0 0 0 0;\n",
              "      width: 32px;\n",
              "    }\n",
              "\n",
              "    .colab-df-convert:hover {\n",
              "      background-color: #E2EBFA;\n",
              "      box-shadow: 0px 1px 2px rgba(60, 64, 67, 0.3), 0px 1px 3px 1px rgba(60, 64, 67, 0.15);\n",
              "      fill: #174EA6;\n",
              "    }\n",
              "\n",
              "    [theme=dark] .colab-df-convert {\n",
              "      background-color: #3B4455;\n",
              "      fill: #D2E3FC;\n",
              "    }\n",
              "\n",
              "    [theme=dark] .colab-df-convert:hover {\n",
              "      background-color: #434B5C;\n",
              "      box-shadow: 0px 1px 3px 1px rgba(0, 0, 0, 0.15);\n",
              "      filter: drop-shadow(0px 1px 2px rgba(0, 0, 0, 0.3));\n",
              "      fill: #FFFFFF;\n",
              "    }\n",
              "  </style>\n",
              "\n",
              "      <script>\n",
              "        const buttonEl =\n",
              "          document.querySelector('#df-c37a7117-a107-4d34-96b0-0008006219f7 button.colab-df-convert');\n",
              "        buttonEl.style.display =\n",
              "          google.colab.kernel.accessAllowed ? 'block' : 'none';\n",
              "\n",
              "        async function convertToInteractive(key) {\n",
              "          const element = document.querySelector('#df-c37a7117-a107-4d34-96b0-0008006219f7');\n",
              "          const dataTable =\n",
              "            await google.colab.kernel.invokeFunction('convertToInteractive',\n",
              "                                                     [key], {});\n",
              "          if (!dataTable) return;\n",
              "\n",
              "          const docLinkHtml = 'Like what you see? Visit the ' +\n",
              "            '<a target=\"_blank\" href=https://colab.research.google.com/notebooks/data_table.ipynb>data table notebook</a>'\n",
              "            + ' to learn more about interactive tables.';\n",
              "          element.innerHTML = '';\n",
              "          dataTable['output_type'] = 'display_data';\n",
              "          await google.colab.output.renderOutput(dataTable, element);\n",
              "          const docLink = document.createElement('div');\n",
              "          docLink.innerHTML = docLinkHtml;\n",
              "          element.appendChild(docLink);\n",
              "        }\n",
              "      </script>\n",
              "    </div>\n",
              "  </div>\n",
              "  "
            ]
          },
          "metadata": {},
          "execution_count": 8
        }
      ]
    },
    {
      "cell_type": "code",
      "source": [
        "stock.info()"
      ],
      "metadata": {
        "colab": {
          "base_uri": "https://localhost:8080/"
        },
        "id": "ERNHd6b9cMqf",
        "outputId": "5a8b4fa5-541d-47ff-b2dc-c06905360f0f"
      },
      "execution_count": 9,
      "outputs": [
        {
          "output_type": "stream",
          "name": "stdout",
          "text": [
            "<class 'pandas.core.frame.DataFrame'>\n",
            "DatetimeIndex: 157 entries, 2010-01-01 to 2023-01-01\n",
            "Data columns (total 1 columns):\n",
            " #   Column  Non-Null Count  Dtype  \n",
            "---  ------  --------------  -----  \n",
            " 0   dji     157 non-null    float64\n",
            "dtypes: float64(1)\n",
            "memory usage: 2.5 KB\n"
          ]
        }
      ]
    },
    {
      "cell_type": "code",
      "source": [
        "# ADF check\n",
        "\n",
        "from statsmodels.tsa.stattools import adfuller\n",
        "\n",
        "stock_diff1 = stock.diff().dropna()['dji']\n",
        "result = adfuller(stock)\n",
        "\n",
        "print(f'Orginal ADF Stat: {result[0]: .3f}')\n",
        "print(f'Orginal p-value: {result[1]: .3f}')\n",
        "\n",
        "result = adfuller(stock_diff1)\n",
        "print(f'1st Diff ADF Stat: {result[0]: .3f}')\n",
        "print(f'1st Diff p-value: {result[1]: .3f}') # P-value indicating 1st diff is stationary"
      ],
      "metadata": {
        "colab": {
          "base_uri": "https://localhost:8080/"
        },
        "id": "-JihdGvLXrPf",
        "outputId": "733d93b8-c318-418f-82dd-1b83f9ea1652"
      },
      "execution_count": 10,
      "outputs": [
        {
          "output_type": "stream",
          "name": "stdout",
          "text": [
            "Orginal ADF Stat: -0.332\n",
            "Orginal p-value:  0.921\n",
            "1st Diff ADF Stat: -4.294\n",
            "1st Diff p-value:  0.000\n"
          ]
        }
      ]
    },
    {
      "cell_type": "code",
      "source": [
        "!pip install pmdarima\n",
        "from pmdarima.arima import ndiffs\n",
        "import pmdarima as pm\n",
        "\n",
        "stock_train = stock[:int(0.95*len(stock))]\n",
        "stock_test = stock[int(0.95*len(stock)):]\n",
        "stock_train.plot()\n",
        "stock_test.plot()"
      ],
      "metadata": {
        "colab": {
          "base_uri": "https://localhost:8080/",
          "height": 900
        },
        "id": "vWagUC4fap4i",
        "outputId": "b30a944d-cfdb-4bfb-fde4-3453adc73217"
      },
      "execution_count": 18,
      "outputs": [
        {
          "output_type": "stream",
          "name": "stdout",
          "text": [
            "Looking in indexes: https://pypi.org/simple, https://us-python.pkg.dev/colab-wheels/public/simple/\n",
            "Requirement already satisfied: pmdarima in /usr/local/lib/python3.9/dist-packages (2.0.2)\n",
            "Requirement already satisfied: scikit-learn>=0.22 in /usr/local/lib/python3.9/dist-packages (from pmdarima) (1.2.1)\n",
            "Requirement already satisfied: numpy>=1.21.2 in /usr/local/lib/python3.9/dist-packages (from pmdarima) (1.22.4)\n",
            "Requirement already satisfied: setuptools!=50.0.0,>=38.6.0 in /usr/local/lib/python3.9/dist-packages (from pmdarima) (57.4.0)\n",
            "Requirement already satisfied: scipy>=1.3.2 in /usr/local/lib/python3.9/dist-packages (from pmdarima) (1.10.1)\n",
            "Requirement already satisfied: urllib3 in /usr/local/lib/python3.9/dist-packages (from pmdarima) (1.26.14)\n",
            "Requirement already satisfied: Cython!=0.29.18,!=0.29.31,>=0.29 in /usr/local/lib/python3.9/dist-packages (from pmdarima) (0.29.33)\n",
            "Requirement already satisfied: joblib>=0.11 in /usr/local/lib/python3.9/dist-packages (from pmdarima) (1.2.0)\n",
            "Requirement already satisfied: pandas>=0.19 in /usr/local/lib/python3.9/dist-packages (from pmdarima) (1.3.5)\n",
            "Requirement already satisfied: statsmodels>=0.13.2 in /usr/local/lib/python3.9/dist-packages (from pmdarima) (0.13.5)\n",
            "Requirement already satisfied: pytz>=2017.3 in /usr/local/lib/python3.9/dist-packages (from pandas>=0.19->pmdarima) (2022.7.1)\n",
            "Requirement already satisfied: python-dateutil>=2.7.3 in /usr/local/lib/python3.9/dist-packages (from pandas>=0.19->pmdarima) (2.8.2)\n",
            "Requirement already satisfied: threadpoolctl>=2.0.0 in /usr/local/lib/python3.9/dist-packages (from scikit-learn>=0.22->pmdarima) (3.1.0)\n",
            "Requirement already satisfied: patsy>=0.5.2 in /usr/local/lib/python3.9/dist-packages (from statsmodels>=0.13.2->pmdarima) (0.5.3)\n",
            "Requirement already satisfied: packaging>=21.3 in /usr/local/lib/python3.9/dist-packages (from statsmodels>=0.13.2->pmdarima) (23.0)\n",
            "Requirement already satisfied: six in /usr/local/lib/python3.9/dist-packages (from patsy>=0.5.2->statsmodels>=0.13.2->pmdarima) (1.15.0)\n"
          ]
        },
        {
          "output_type": "execute_result",
          "data": {
            "text/plain": [
              "<AxesSubplot:xlabel='date'>"
            ]
          },
          "metadata": {},
          "execution_count": 18
        },
        {
          "output_type": "display_data",
          "data": {
            "text/plain": [
              "<Figure size 432x288 with 1 Axes>"
            ],
            "image/png": "[encoded data removed]"
          },
          "metadata": {
            "needs_background": "light"
          }
        },
        {
          "output_type": "display_data",
          "data": {
            "text/plain": [
              "<Figure size 432x288 with 1 Axes>"
            ],
            "image/png": "[encoded data removed]"
          },
          "metadata": {
            "needs_background": "light"
          }
        }
      ]
    },
    {
      "cell_type": "code",
      "source": [
        "print(stock_train.shape)\n",
        "stock_test.head()"
      ],
      "metadata": {
        "colab": {
          "base_uri": "https://localhost:8080/",
          "height": 255
        },
        "id": "uCby_Yj_3MLg",
        "outputId": "bde4ecfb-8cd6-4aed-a0b8-57a691a73f32"
      },
      "execution_count": 19,
      "outputs": [
        {
          "output_type": "stream",
          "name": "stdout",
          "text": [
            "(149, 1)\n"
          ]
        },
        {
          "output_type": "execute_result",
          "data": {
            "text/plain": [
              "                 dji\n",
              "date                \n",
              "2022-06-01  30779.71\n",
              "2022-07-01  32846.45\n",
              "2022-08-01  31511.09\n",
              "2022-09-01  28730.12\n",
              "2022-10-01  32734.40"
            ],
            "text/html": [
              "\n",
              "  <div id=\"df-577c3044-1dd0-4729-9a59-37a477a363e3\">\n",
              "    <div class=\"colab-df-container\">\n",
              "      <div>\n",
              "<style scoped>\n",
              "    .dataframe tbody tr th:only-of-type {\n",
              "        vertical-align: middle;\n",
              "    }\n",
              "\n",
              "    .dataframe tbody tr th {\n",
              "        vertical-align: top;\n",
              "    }\n",
              "\n",
              "    .dataframe thead th {\n",
              "        text-align: right;\n",
              "    }\n",
              "</style>\n",
              "<table border=\"1\" class=\"dataframe\">\n",
              "  <thead>\n",
              "    <tr style=\"text-align: right;\">\n",
              "      <th></th>\n",
              "      <th>dji</th>\n",
              "    </tr>\n",
              "    <tr>\n",
              "      <th>date</th>\n",
              "      <th></th>\n",
              "    </tr>\n",
              "  </thead>\n",
              "  <tbody>\n",
              "    <tr>\n",
              "      <th>2022-06-01</th>\n",
              "      <td>30779.71</td>\n",
              "    </tr>\n",
              "    <tr>\n",
              "      <th>2022-07-01</th>\n",
              "      <td>32846.45</td>\n",
              "    </tr>\n",
              "    <tr>\n",
              "      <th>2022-08-01</th>\n",
              "      <td>31511.09</td>\n",
              "    </tr>\n",
              "    <tr>\n",
              "      <th>2022-09-01</th>\n",
              "      <td>28730.12</td>\n",
              "    </tr>\n",
              "    <tr>\n",
              "      <th>2022-10-01</th>\n",
              "      <td>32734.40</td>\n",
              "    </tr>\n",
              "  </tbody>\n",
              "</table>\n",
              "</div>\n",
              "      <button class=\"colab-df-convert\" onclick=\"convertToInteractive('df-577c3044-1dd0-4729-9a59-37a477a363e3')\"\n",
              "              title=\"Convert this dataframe to an interactive table.\"\n",
              "              style=\"display:none;\">\n",
              "        \n",
              "  <svg xmlns=\"http://www.w3.org/2000/svg\" height=\"24px\"viewBox=\"0 0 24 24\"\n",
              "       width=\"24px\">\n",
              "    <path d=\"M0 0h24v24H0V0z\" fill=\"none\"/>\n",
              "    <path d=\"M18.56 5.44l.94 2.06.94-2.06 2.06-.94-2.06-.94-.94-2.06-.94 2.06-2.06.94zm-11 1L8.5 8.5l.94-2.06 2.06-.94-2.06-.94L8.5 2.5l-.94 2.06-2.06.94zm10 10l.94 2.06.94-2.06 2.06-.94-2.06-.94-.94-2.06-.94 2.06-2.06.94z\"/><path d=\"M17.41 7.96l-1.37-1.37c-.4-.4-.92-.59-1.43-.59-.52 0-1.04.2-1.43.59L10.3 9.45l-7.72 7.72c-.78.78-.78 2.05 0 2.83L4 21.41c.39.39.9.59 1.41.59.51 0 1.02-.2 1.41-.59l7.78-7.78 2.81-2.81c.8-.78.8-2.07 0-2.86zM5.41 20L4 18.59l7.72-7.72 1.47 1.35L5.41 20z\"/>\n",
              "  </svg>\n",
              "      </button>\n",
              "      \n",
              "  <style>\n",
              "    .colab-df-container {\n",
              "      display:flex;\n",
              "      flex-wrap:wrap;\n",
              "      gap: 12px;\n",
              "    }\n",
              "\n",
              "    .colab-df-convert {\n",
              "      background-color: #E8F0FE;\n",
              "      border: none;\n",
              "      border-radius: 50%;\n",
              "      cursor: pointer;\n",
              "      display: none;\n",
              "      fill: #1967D2;\n",
              "      height: 32px;\n",
              "      padding: 0 0 0 0;\n",
              "      width: 32px;\n",
              "    }\n",
              "\n",
              "    .colab-df-convert:hover {\n",
              "      background-color: #E2EBFA;\n",
              "      box-shadow: 0px 1px 2px rgba(60, 64, 67, 0.3), 0px 1px 3px 1px rgba(60, 64, 67, 0.15);\n",
              "      fill: #174EA6;\n",
              "    }\n",
              "\n",
              "    [theme=dark] .colab-df-convert {\n",
              "      background-color: #3B4455;\n",
              "      fill: #D2E3FC;\n",
              "    }\n",
              "\n",
              "    [theme=dark] .colab-df-convert:hover {\n",
              "      background-color: #434B5C;\n",
              "      box-shadow: 0px 1px 3px 1px rgba(0, 0, 0, 0.15);\n",
              "      filter: drop-shadow(0px 1px 2px rgba(0, 0, 0, 0.3));\n",
              "      fill: #FFFFFF;\n",
              "    }\n",
              "  </style>\n",
              "\n",
              "      <script>\n",
              "        const buttonEl =\n",
              "          document.querySelector('#df-577c3044-1dd0-4729-9a59-37a477a363e3 button.colab-df-convert');\n",
              "        buttonEl.style.display =\n",
              "          google.colab.kernel.accessAllowed ? 'block' : 'none';\n",
              "\n",
              "        async function convertToInteractive(key) {\n",
              "          const element = document.querySelector('#df-577c3044-1dd0-4729-9a59-37a477a363e3');\n",
              "          const dataTable =\n",
              "            await google.colab.kernel.invokeFunction('convertToInteractive',\n",
              "                                                     [key], {});\n",
              "          if (!dataTable) return;\n",
              "\n",
              "          const docLinkHtml = 'Like what you see? Visit the ' +\n",
              "            '<a target=\"_blank\" href=https://colab.research.google.com/notebooks/data_table.ipynb>data table notebook</a>'\n",
              "            + ' to learn more about interactive tables.';\n",
              "          element.innerHTML = '';\n",
              "          dataTable['output_type'] = 'display_data';\n",
              "          await google.colab.output.renderOutput(dataTable, element);\n",
              "          const docLink = document.createElement('div');\n",
              "          docLink.innerHTML = docLinkHtml;\n",
              "          element.appendChild(docLink);\n",
              "        }\n",
              "      </script>\n",
              "    </div>\n",
              "  </div>\n",
              "  "
            ]
          },
          "metadata": {},
          "execution_count": 19
        }
      ]
    },
    {
      "cell_type": "code",
      "source": [
        "model = pm.auto_arima(y = stock_train,\n",
        "                      d=1,\n",
        "                      start_p = 0,\n",
        "                      max_p = 3,\n",
        "                      start_q = 0,\n",
        "                      max_q = 3,\n",
        "                      m =1,\n",
        "                      seasonal=False,\n",
        "                      stepwise = True,\n",
        "                      trace = True)"
      ],
      "metadata": {
        "colab": {
          "base_uri": "https://localhost:8080/"
        },
        "id": "kMTUJnX3j-ZG",
        "outputId": "3d6018d0-f3b5-4d84-d596-0c47038684bd"
      },
      "execution_count": 20,
      "outputs": [
        {
          "output_type": "stream",
          "name": "stdout",
          "text": [
            "Performing stepwise search to minimize aic\n",
            " ARIMA(0,1,0)(0,0,0)[0] intercept   : AIC=2432.255, Time=0.14 sec\n",
            " ARIMA(1,1,0)(0,0,0)[0] intercept   : AIC=2432.727, Time=0.10 sec\n",
            " ARIMA(0,1,1)(0,0,0)[0] intercept   : AIC=2432.545, Time=0.15 sec\n",
            " ARIMA(0,1,0)(0,0,0)[0]             : AIC=2434.733, Time=0.07 sec\n",
            " ARIMA(1,1,1)(0,0,0)[0] intercept   : AIC=inf, Time=1.11 sec\n",
            "\n",
            "Best model:  ARIMA(0,1,0)(0,0,0)[0] intercept\n",
            "Total fit time: 1.580 seconds\n"
          ]
        }
      ]
    },
    {
      "cell_type": "code",
      "source": [
        "model = pm.auto_arima (stock_train, d = 1, seasonal = False, trace = True)\n",
        "model.fit(stock_train)"
      ],
      "metadata": {
        "colab": {
          "base_uri": "https://localhost:8080/",
          "height": 256
        },
        "id": "DJBFkDg2vb7W",
        "outputId": "8c46cf40-48e6-40d4-d0fa-e61e7aa9de38"
      },
      "execution_count": 21,
      "outputs": [
        {
          "output_type": "stream",
          "name": "stdout",
          "text": [
            "Performing stepwise search to minimize aic\n",
            " ARIMA(2,1,2)(0,0,0)[0] intercept   : AIC=inf, Time=2.52 sec\n",
            " ARIMA(0,1,0)(0,0,0)[0] intercept   : AIC=2432.255, Time=0.14 sec\n",
            " ARIMA(1,1,0)(0,0,0)[0] intercept   : AIC=2432.727, Time=0.10 sec\n",
            " ARIMA(0,1,1)(0,0,0)[0] intercept   : AIC=2432.545, Time=0.30 sec\n",
            " ARIMA(0,1,0)(0,0,0)[0]             : AIC=2434.733, Time=0.07 sec\n",
            " ARIMA(1,1,1)(0,0,0)[0] intercept   : AIC=inf, Time=1.17 sec\n",
            "\n",
            "Best model:  ARIMA(0,1,0)(0,0,0)[0] intercept\n",
            "Total fit time: 4.328 seconds\n"
          ]
        },
        {
          "output_type": "execute_result",
          "data": {
            "text/plain": [
              "ARIMA(order=(0, 1, 0), scoring_args={}, suppress_warnings=True)"
            ],
            "text/html": [
              "<style>#sk-container-id-1 {color: black;background-color: white;}#sk-container-id-1 pre{padding: 0;}#sk-container-id-1 div.sk-toggleable {background-color: white;}#sk-container-id-1 label.sk-toggleable__label {cursor: pointer;display: block;width: 100%;margin-bottom: 0;padding: 0.3em;box-sizing: border-box;text-align: center;}#sk-container-id-1 label.sk-toggleable__label-arrow:before {content: \"▸\";float: left;margin-right: 0.25em;color: #696969;}#sk-container-id-1 label.sk-toggleable__label-arrow:hover:before {color: black;}#sk-container-id-1 div.sk-estimator:hover label.sk-toggleable__label-arrow:before {color: black;}#sk-container-id-1 div.sk-toggleable__content {max-height: 0;max-width: 0;overflow: hidden;text-align: left;background-color: #f0f8ff;}#sk-container-id-1 div.sk-toggleable__content pre {margin: 0.2em;color: black;border-radius: 0.25em;background-color: #f0f8ff;}#sk-container-id-1 input.sk-toggleable__control:checked~div.sk-toggleable__content {max-height: 200px;max-width: 100%;overflow: auto;}#sk-container-id-1 input.sk-toggleable__control:checked~label.sk-toggleable__label-arrow:before {content: \"▾\";}#sk-container-id-1 div.sk-estimator input.sk-toggleable__control:checked~label.sk-toggleable__label {background-color: #d4ebff;}#sk-container-id-1 div.sk-label input.sk-toggleable__control:checked~label.sk-toggleable__label {background-color: #d4ebff;}#sk-container-id-1 input.sk-hidden--visually {border: 0;clip: rect(1px 1px 1px 1px);clip: rect(1px, 1px, 1px, 1px);height: 1px;margin: -1px;overflow: hidden;padding: 0;position: absolute;width: 1px;}#sk-container-id-1 div.sk-estimator {font-family: monospace;background-color: #f0f8ff;border: 1px dotted black;border-radius: 0.25em;box-sizing: border-box;margin-bottom: 0.5em;}#sk-container-id-1 div.sk-estimator:hover {background-color: #d4ebff;}#sk-container-id-1 div.sk-parallel-item::after {content: \"\";width: 100%;border-bottom: 1px solid gray;flex-grow: 1;}#sk-container-id-1 div.sk-label:hover label.sk-toggleable__label {background-color: #d4ebff;}#sk-container-id-1 div.sk-serial::before {content: \"\";position: absolute;border-left: 1px solid gray;box-sizing: border-box;top: 0;bottom: 0;left: 50%;z-index: 0;}#sk-container-id-1 div.sk-serial {display: flex;flex-direction: column;align-items: center;background-color: white;padding-right: 0.2em;padding-left: 0.2em;position: relative;}#sk-container-id-1 div.sk-item {position: relative;z-index: 1;}#sk-container-id-1 div.sk-parallel {display: flex;align-items: stretch;justify-content: center;background-color: white;position: relative;}#sk-container-id-1 div.sk-item::before, #sk-container-id-1 div.sk-parallel-item::before {content: \"\";position: absolute;border-left: 1px solid gray;box-sizing: border-box;top: 0;bottom: 0;left: 50%;z-index: -1;}#sk-container-id-1 div.sk-parallel-item {display: flex;flex-direction: column;z-index: 1;position: relative;background-color: white;}#sk-container-id-1 div.sk-parallel-item:first-child::after {align-self: flex-end;width: 50%;}#sk-container-id-1 div.sk-parallel-item:last-child::after {align-self: flex-start;width: 50%;}#sk-container-id-1 div.sk-parallel-item:only-child::after {width: 0;}#sk-container-id-1 div.sk-dashed-wrapped {border: 1px dashed gray;margin: 0 0.4em 0.5em 0.4em;box-sizing: border-box;padding-bottom: 0.4em;background-color: white;}#sk-container-id-1 div.sk-label label {font-family: monospace;font-weight: bold;display: inline-block;line-height: 1.2em;}#sk-container-id-1 div.sk-label-container {text-align: center;}#sk-container-id-1 div.sk-container {/* jupyter's `normalize.less` sets `[hidden] { display: none; }` but bootstrap.min.css set `[hidden] { display: none !important; }` so we also need the `!important` here to be able to override the default hidden behavior on the sphinx rendered scikit-learn.org. See: https://github.com/scikit-learn/scikit-learn/issues/21755 */display: inline-block !important;position: relative;}#sk-container-id-1 div.sk-text-repr-fallback {display: none;}</style><div id=\"sk-container-id-1\" class=\"sk-top-container\"><div class=\"sk-text-repr-fallback\"><pre> ARIMA(0,1,0)(0,0,0)[0] intercept</pre><b>In a Jupyter environment, please rerun this cell to show the HTML representation or trust the notebook. <br />On GitHub, the HTML representation is unable to render, please try loading this page with nbviewer.org.</b></div><div class=\"sk-container\" hidden><div class=\"sk-item\"><div class=\"sk-estimator sk-toggleable\"><input class=\"sk-toggleable__control sk-hidden--visually\" id=\"sk-estimator-id-1\" type=\"checkbox\" checked><label for=\"sk-estimator-id-1\" class=\"sk-toggleable__label sk-toggleable__label-arrow\">ARIMA</label><div class=\"sk-toggleable__content\"><pre> ARIMA(0,1,0)(0,0,0)[0] intercept</pre></div></div></div></div></div>"
            ]
          },
          "metadata": {},
          "execution_count": 21
        }
      ]
    },
    {
      "cell_type": "code",
      "source": [
        "model = ARIMA(stock_train, order=(0,1,0))\n",
        "model_fit = model.fit()\n",
        "print(model_fit.summary())\n",
        "\n",
        "# Prob(Q) = 0.16 > 0.05 then we can decide the residual is white noise"
      ],
      "metadata": {
        "colab": {
          "base_uri": "https://localhost:8080/"
        },
        "id": "zRqYXHsVv1PK",
        "outputId": "8721638d-b915-469b-8993-93d379b8a53b"
      },
      "execution_count": 22,
      "outputs": [
        {
          "output_type": "stream",
          "name": "stdout",
          "text": [
            "                               SARIMAX Results                                \n",
            "==============================================================================\n",
            "Dep. Variable:                    dji   No. Observations:                  149\n",
            "Model:                 ARIMA(0, 1, 0)   Log Likelihood               -1216.366\n",
            "Date:                Sun, 12 Mar 2023   AIC                           2434.733\n",
            "Time:                        15:01:07   BIC                           2437.730\n",
            "Sample:                    01-01-2010   HQIC                          2435.950\n",
            "                         - 05-01-2022                                         \n",
            "Covariance Type:                  opg                                         \n",
            "==============================================================================\n",
            "                 coef    std err          z      P>|z|      [0.025      0.975]\n",
            "------------------------------------------------------------------------------\n",
            "sigma2      8.003e+05   6.23e+04     12.854      0.000    6.78e+05    9.22e+05\n",
            "===================================================================================\n",
            "Ljung-Box (L1) (Q):                   1.94   Jarque-Bera (JB):                58.70\n",
            "Prob(Q):                              0.16   Prob(JB):                         0.00\n",
            "Heteroskedasticity (H):               8.34   Skew:                            -0.51\n",
            "Prob(H) (two-sided):                  0.00   Kurtosis:                         5.91\n",
            "===================================================================================\n",
            "\n",
            "Warnings:\n",
            "[1] Covariance matrix calculated using the outer product of gradients (complex-step).\n"
          ]
        },
        {
          "output_type": "stream",
          "name": "stderr",
          "text": [
            "/usr/local/lib/python3.9/dist-packages/statsmodels/tsa/base/tsa_model.py:471: ValueWarning: No frequency information was provided, so inferred frequency MS will be used.\n",
            "  self._init_dates(dates, freq)\n",
            "/usr/local/lib/python3.9/dist-packages/statsmodels/tsa/base/tsa_model.py:471: ValueWarning: No frequency information was provided, so inferred frequency MS will be used.\n",
            "  self._init_dates(dates, freq)\n",
            "/usr/local/lib/python3.9/dist-packages/statsmodels/tsa/base/tsa_model.py:471: ValueWarning: No frequency information was provided, so inferred frequency MS will be used.\n",
            "  self._init_dates(dates, freq)\n"
          ]
        }
      ]
    },
    {
      "cell_type": "code",
      "source": [
        "model_fit.plot_diagnostics(figsize = (16,8))\n",
        "plt.show()"
      ],
      "metadata": {
        "colab": {
          "base_uri": "https://localhost:8080/",
          "height": 348
        },
        "id": "d3L0D0SLxHM5",
        "outputId": "9a223dcf-08ce-4814-d784-f343751d7ce5"
      },
      "execution_count": 23,
      "outputs": [
        {
          "output_type": "display_data",
          "data": {
            "text/plain": [
              "<Figure size 1152x576 with 4 Axes>"
            ],
            "image/png": "[encoded data removed]"
          },
          "metadata": {
            "needs_background": "light"
          }
        }
      ]
    },
    {
      "cell_type": "code",
      "source": [
        "predict = model_fit.predict(n_periods = len(stock_test))\n",
        "predict"
      ],
      "metadata": {
        "colab": {
          "base_uri": "https://localhost:8080/"
        },
        "id": "ERhI0q1DzuhM",
        "outputId": "acb01673-2ab1-4919-b17a-4f8af8d4b400"
      },
      "execution_count": 24,
      "outputs": [
        {
          "output_type": "execute_result",
          "data": {
            "text/plain": [
              "2010-01-01        0.00\n",
              "2010-02-01    10067.33\n",
              "2010-03-01    10325.26\n",
              "2010-04-01    10856.63\n",
              "2010-05-01    11008.61\n",
              "                ...   \n",
              "2022-01-01    36338.30\n",
              "2022-02-01    35131.86\n",
              "2022-03-01    33892.60\n",
              "2022-04-01    34678.35\n",
              "2022-05-01    32977.21\n",
              "Freq: MS, Name: predicted_mean, Length: 149, dtype: float64"
            ]
          },
          "metadata": {},
          "execution_count": 24
        }
      ]
    },
    {
      "cell_type": "code",
      "source": [
        "print(stock_train)"
      ],
      "metadata": {
        "colab": {
          "base_uri": "https://localhost:8080/"
        },
        "id": "rPLDAtnG2eA8",
        "outputId": "ca8d6fb9-4bfb-4fcd-e187-b8ee684f4843"
      },
      "execution_count": 25,
      "outputs": [
        {
          "output_type": "stream",
          "name": "stdout",
          "text": [
            "                 dji\n",
            "date                \n",
            "2010-01-01  10067.33\n",
            "2010-02-01  10325.26\n",
            "2010-03-01  10856.63\n",
            "2010-04-01  11008.61\n",
            "2010-05-01  10136.63\n",
            "...              ...\n",
            "2022-01-01  35131.86\n",
            "2022-02-01  33892.60\n",
            "2022-03-01  34678.35\n",
            "2022-04-01  32977.21\n",
            "2022-05-01  32991.97\n",
            "\n",
            "[149 rows x 1 columns]\n"
          ]
        }
      ]
    },
    {
      "cell_type": "code",
      "source": [
        "plot_predict(model_fit, dynamic=False)\n",
        "plt.show()"
      ],
      "metadata": {
        "colab": {
          "base_uri": "https://localhost:8080/",
          "height": 269
        },
        "id": "x_GruzZK3mzX",
        "outputId": "af73048c-24c3-48ca-bdf8-740f890c786c"
      },
      "execution_count": 26,
      "outputs": [
        {
          "output_type": "display_data",
          "data": {
            "text/plain": [
              "<Figure size 432x288 with 1 Axes>"
            ],
            "image/png": "[encoded data removed]"
          },
          "metadata": {
            "needs_background": "light"
          }
        }
      ]
    },
    {
      "cell_type": "code",
      "source": [
        "forecast = model_fit.forecast(steps = len(stock_test))\n",
        "forecast"
      ],
      "metadata": {
        "colab": {
          "base_uri": "https://localhost:8080/"
        },
        "id": "DSgt6tqE6ULp",
        "outputId": "fdd459c9-4eeb-45df-9eab-be8e03badd13"
      },
      "execution_count": 27,
      "outputs": [
        {
          "output_type": "execute_result",
          "data": {
            "text/plain": [
              "2022-06-01    32991.97\n",
              "2022-07-01    32991.97\n",
              "2022-08-01    32991.97\n",
              "2022-09-01    32991.97\n",
              "2022-10-01    32991.97\n",
              "2022-11-01    32991.97\n",
              "2022-12-01    32991.97\n",
              "2023-01-01    32991.97\n",
              "Freq: MS, Name: predicted_mean, dtype: float64"
            ]
          },
          "metadata": {},
          "execution_count": 27
        }
      ]
    },
    {
      "cell_type": "code",
      "source": [
        "df_forecast = forecast.to_frame()\n",
        "df_forecast.columns = ['dji_forecast']\n",
        "df_forecast"
      ],
      "metadata": {
        "colab": {
          "base_uri": "https://localhost:8080/",
          "height": 300
        },
        "id": "oV2RffaaSBYb",
        "outputId": "5e055a40-8190-49f9-9dc8-9b58e75976be"
      },
      "execution_count": 28,
      "outputs": [
        {
          "output_type": "execute_result",
          "data": {
            "text/plain": [
              "            dji_forecast\n",
              "2022-06-01      32991.97\n",
              "2022-07-01      32991.97\n",
              "2022-08-01      32991.97\n",
              "2022-09-01      32991.97\n",
              "2022-10-01      32991.97\n",
              "2022-11-01      32991.97\n",
              "2022-12-01      32991.97\n",
              "2023-01-01      32991.97"
            ],
            "text/html": [
              "\n",
              "  <div id=\"df-a8d76f00-11f9-49bc-8803-5d77c8258dc5\">\n",
              "    <div class=\"colab-df-container\">\n",
              "      <div>\n",
              "<style scoped>\n",
              "    .dataframe tbody tr th:only-of-type {\n",
              "        vertical-align: middle;\n",
              "    }\n",
              "\n",
              "    .dataframe tbody tr th {\n",
              "        vertical-align: top;\n",
              "    }\n",
              "\n",
              "    .dataframe thead th {\n",
              "        text-align: right;\n",
              "    }\n",
              "</style>\n",
              "<table border=\"1\" class=\"dataframe\">\n",
              "  <thead>\n",
              "    <tr style=\"text-align: right;\">\n",
              "      <th></th>\n",
              "      <th>dji_forecast</th>\n",
              "    </tr>\n",
              "  </thead>\n",
              "  <tbody>\n",
              "    <tr>\n",
              "      <th>2022-06-01</th>\n",
              "      <td>32991.97</td>\n",
              "    </tr>\n",
              "    <tr>\n",
              "      <th>2022-07-01</th>\n",
              "      <td>32991.97</td>\n",
              "    </tr>\n",
              "    <tr>\n",
              "      <th>2022-08-01</th>\n",
              "      <td>32991.97</td>\n",
              "    </tr>\n",
              "    <tr>\n",
              "      <th>2022-09-01</th>\n",
              "      <td>32991.97</td>\n",
              "    </tr>\n",
              "    <tr>\n",
              "      <th>2022-10-01</th>\n",
              "      <td>32991.97</td>\n",
              "    </tr>\n",
              "    <tr>\n",
              "      <th>2022-11-01</th>\n",
              "      <td>32991.97</td>\n",
              "    </tr>\n",
              "    <tr>\n",
              "      <th>2022-12-01</th>\n",
              "      <td>32991.97</td>\n",
              "    </tr>\n",
              "    <tr>\n",
              "      <th>2023-01-01</th>\n",
              "      <td>32991.97</td>\n",
              "    </tr>\n",
              "  </tbody>\n",
              "</table>\n",
              "</div>\n",
              "      <button class=\"colab-df-convert\" onclick=\"convertToInteractive('df-a8d76f00-11f9-49bc-8803-5d77c8258dc5')\"\n",
              "              title=\"Convert this dataframe to an interactive table.\"\n",
              "              style=\"display:none;\">\n",
              "        \n",
              "  <svg xmlns=\"http://www.w3.org/2000/svg\" height=\"24px\"viewBox=\"0 0 24 24\"\n",
              "       width=\"24px\">\n",
              "    <path d=\"M0 0h24v24H0V0z\" fill=\"none\"/>\n",
              "    <path d=\"M18.56 5.44l.94 2.06.94-2.06 2.06-.94-2.06-.94-.94-2.06-.94 2.06-2.06.94zm-11 1L8.5 8.5l.94-2.06 2.06-.94-2.06-.94L8.5 2.5l-.94 2.06-2.06.94zm10 10l.94 2.06.94-2.06 2.06-.94-2.06-.94-.94-2.06-.94 2.06-2.06.94z\"/><path d=\"M17.41 7.96l-1.37-1.37c-.4-.4-.92-.59-1.43-.59-.52 0-1.04.2-1.43.59L10.3 9.45l-7.72 7.72c-.78.78-.78 2.05 0 2.83L4 21.41c.39.39.9.59 1.41.59.51 0 1.02-.2 1.41-.59l7.78-7.78 2.81-2.81c.8-.78.8-2.07 0-2.86zM5.41 20L4 18.59l7.72-7.72 1.47 1.35L5.41 20z\"/>\n",
              "  </svg>\n",
              "      </button>\n",
              "      \n",
              "  <style>\n",
              "    .colab-df-container {\n",
              "      display:flex;\n",
              "      flex-wrap:wrap;\n",
              "      gap: 12px;\n",
              "    }\n",
              "\n",
              "    .colab-df-convert {\n",
              "      background-color: #E8F0FE;\n",
              "      border: none;\n",
              "      border-radius: 50%;\n",
              "      cursor: pointer;\n",
              "      display: none;\n",
              "      fill: #1967D2;\n",
              "      height: 32px;\n",
              "      padding: 0 0 0 0;\n",
              "      width: 32px;\n",
              "    }\n",
              "\n",
              "    .colab-df-convert:hover {\n",
              "      background-color: #E2EBFA;\n",
              "      box-shadow: 0px 1px 2px rgba(60, 64, 67, 0.3), 0px 1px 3px 1px rgba(60, 64, 67, 0.15);\n",
              "      fill: #174EA6;\n",
              "    }\n",
              "\n",
              "    [theme=dark] .colab-df-convert {\n",
              "      background-color: #3B4455;\n",
              "      fill: #D2E3FC;\n",
              "    }\n",
              "\n",
              "    [theme=dark] .colab-df-convert:hover {\n",
              "      background-color: #434B5C;\n",
              "      box-shadow: 0px 1px 3px 1px rgba(0, 0, 0, 0.15);\n",
              "      filter: drop-shadow(0px 1px 2px rgba(0, 0, 0, 0.3));\n",
              "      fill: #FFFFFF;\n",
              "    }\n",
              "  </style>\n",
              "\n",
              "      <script>\n",
              "        const buttonEl =\n",
              "          document.querySelector('#df-a8d76f00-11f9-49bc-8803-5d77c8258dc5 button.colab-df-convert');\n",
              "        buttonEl.style.display =\n",
              "          google.colab.kernel.accessAllowed ? 'block' : 'none';\n",
              "\n",
              "        async function convertToInteractive(key) {\n",
              "          const element = document.querySelector('#df-a8d76f00-11f9-49bc-8803-5d77c8258dc5');\n",
              "          const dataTable =\n",
              "            await google.colab.kernel.invokeFunction('convertToInteractive',\n",
              "                                                     [key], {});\n",
              "          if (!dataTable) return;\n",
              "\n",
              "          const docLinkHtml = 'Like what you see? Visit the ' +\n",
              "            '<a target=\"_blank\" href=https://colab.research.google.com/notebooks/data_table.ipynb>data table notebook</a>'\n",
              "            + ' to learn more about interactive tables.';\n",
              "          element.innerHTML = '';\n",
              "          dataTable['output_type'] = 'display_data';\n",
              "          await google.colab.output.renderOutput(dataTable, element);\n",
              "          const docLink = document.createElement('div');\n",
              "          docLink.innerHTML = docLinkHtml;\n",
              "          element.appendChild(docLink);\n",
              "        }\n",
              "      </script>\n",
              "    </div>\n",
              "  </div>\n",
              "  "
            ]
          },
          "metadata": {},
          "execution_count": 28
        }
      ]
    },
    {
      "cell_type": "code",
      "source": [
        "compare = pd.merge(stock_test, df_forecast, how='inner', left_index = True, right_index=True)\n",
        "compare.head() # The forecast is explaied flat because the trend of the recent months remain silent"
      ],
      "metadata": {
        "colab": {
          "base_uri": "https://localhost:8080/",
          "height": 237
        },
        "id": "4OPI2BacSzWT",
        "outputId": "7aff2a38-0d96-460f-e8c5-57b3c612595b"
      },
      "execution_count": 29,
      "outputs": [
        {
          "output_type": "execute_result",
          "data": {
            "text/plain": [
              "                 dji  dji_forecast\n",
              "date                              \n",
              "2022-06-01  30779.71      32991.97\n",
              "2022-07-01  32846.45      32991.97\n",
              "2022-08-01  31511.09      32991.97\n",
              "2022-09-01  28730.12      32991.97\n",
              "2022-10-01  32734.40      32991.97"
            ],
            "text/html": [
              "\n",
              "  <div id=\"df-6e671c9e-32bc-423c-8a30-95aa6fa41c01\">\n",
              "    <div class=\"colab-df-container\">\n",
              "      <div>\n",
              "<style scoped>\n",
              "    .dataframe tbody tr th:only-of-type {\n",
              "        vertical-align: middle;\n",
              "    }\n",
              "\n",
              "    .dataframe tbody tr th {\n",
              "        vertical-align: top;\n",
              "    }\n",
              "\n",
              "    .dataframe thead th {\n",
              "        text-align: right;\n",
              "    }\n",
              "</style>\n",
              "<table border=\"1\" class=\"dataframe\">\n",
              "  <thead>\n",
              "    <tr style=\"text-align: right;\">\n",
              "      <th></th>\n",
              "      <th>dji</th>\n",
              "      <th>dji_forecast</th>\n",
              "    </tr>\n",
              "    <tr>\n",
              "      <th>date</th>\n",
              "      <th></th>\n",
              "      <th></th>\n",
              "    </tr>\n",
              "  </thead>\n",
              "  <tbody>\n",
              "    <tr>\n",
              "      <th>2022-06-01</th>\n",
              "      <td>30779.71</td>\n",
              "      <td>32991.97</td>\n",
              "    </tr>\n",
              "    <tr>\n",
              "      <th>2022-07-01</th>\n",
              "      <td>32846.45</td>\n",
              "      <td>32991.97</td>\n",
              "    </tr>\n",
              "    <tr>\n",
              "      <th>2022-08-01</th>\n",
              "      <td>31511.09</td>\n",
              "      <td>32991.97</td>\n",
              "    </tr>\n",
              "    <tr>\n",
              "      <th>2022-09-01</th>\n",
              "      <td>28730.12</td>\n",
              "      <td>32991.97</td>\n",
              "    </tr>\n",
              "    <tr>\n",
              "      <th>2022-10-01</th>\n",
              "      <td>32734.40</td>\n",
              "      <td>32991.97</td>\n",
              "    </tr>\n",
              "  </tbody>\n",
              "</table>\n",
              "</div>\n",
              "      <button class=\"colab-df-convert\" onclick=\"convertToInteractive('df-6e671c9e-32bc-423c-8a30-95aa6fa41c01')\"\n",
              "              title=\"Convert this dataframe to an interactive table.\"\n",
              "              style=\"display:none;\">\n",
              "        \n",
              "  <svg xmlns=\"http://www.w3.org/2000/svg\" height=\"24px\"viewBox=\"0 0 24 24\"\n",
              "       width=\"24px\">\n",
              "    <path d=\"M0 0h24v24H0V0z\" fill=\"none\"/>\n",
              "    <path d=\"M18.56 5.44l.94 2.06.94-2.06 2.06-.94-2.06-.94-.94-2.06-.94 2.06-2.06.94zm-11 1L8.5 8.5l.94-2.06 2.06-.94-2.06-.94L8.5 2.5l-.94 2.06-2.06.94zm10 10l.94 2.06.94-2.06 2.06-.94-2.06-.94-.94-2.06-.94 2.06-2.06.94z\"/><path d=\"M17.41 7.96l-1.37-1.37c-.4-.4-.92-.59-1.43-.59-.52 0-1.04.2-1.43.59L10.3 9.45l-7.72 7.72c-.78.78-.78 2.05 0 2.83L4 21.41c.39.39.9.59 1.41.59.51 0 1.02-.2 1.41-.59l7.78-7.78 2.81-2.81c.8-.78.8-2.07 0-2.86zM5.41 20L4 18.59l7.72-7.72 1.47 1.35L5.41 20z\"/>\n",
              "  </svg>\n",
              "      </button>\n",
              "      \n",
              "  <style>\n",
              "    .colab-df-container {\n",
              "      display:flex;\n",
              "      flex-wrap:wrap;\n",
              "      gap: 12px;\n",
              "    }\n",
              "\n",
              "    .colab-df-convert {\n",
              "      background-color: #E8F0FE;\n",
              "      border: none;\n",
              "      border-radius: 50%;\n",
              "      cursor: pointer;\n",
              "      display: none;\n",
              "      fill: #1967D2;\n",
              "      height: 32px;\n",
              "      padding: 0 0 0 0;\n",
              "      width: 32px;\n",
              "    }\n",
              "\n",
              "    .colab-df-convert:hover {\n",
              "      background-color: #E2EBFA;\n",
              "      box-shadow: 0px 1px 2px rgba(60, 64, 67, 0.3), 0px 1px 3px 1px rgba(60, 64, 67, 0.15);\n",
              "      fill: #174EA6;\n",
              "    }\n",
              "\n",
              "    [theme=dark] .colab-df-convert {\n",
              "      background-color: #3B4455;\n",
              "      fill: #D2E3FC;\n",
              "    }\n",
              "\n",
              "    [theme=dark] .colab-df-convert:hover {\n",
              "      background-color: #434B5C;\n",
              "      box-shadow: 0px 1px 3px 1px rgba(0, 0, 0, 0.15);\n",
              "      filter: drop-shadow(0px 1px 2px rgba(0, 0, 0, 0.3));\n",
              "      fill: #FFFFFF;\n",
              "    }\n",
              "  </style>\n",
              "\n",
              "      <script>\n",
              "        const buttonEl =\n",
              "          document.querySelector('#df-6e671c9e-32bc-423c-8a30-95aa6fa41c01 button.colab-df-convert');\n",
              "        buttonEl.style.display =\n",
              "          google.colab.kernel.accessAllowed ? 'block' : 'none';\n",
              "\n",
              "        async function convertToInteractive(key) {\n",
              "          const element = document.querySelector('#df-6e671c9e-32bc-423c-8a30-95aa6fa41c01');\n",
              "          const dataTable =\n",
              "            await google.colab.kernel.invokeFunction('convertToInteractive',\n",
              "                                                     [key], {});\n",
              "          if (!dataTable) return;\n",
              "\n",
              "          const docLinkHtml = 'Like what you see? Visit the ' +\n",
              "            '<a target=\"_blank\" href=https://colab.research.google.com/notebooks/data_table.ipynb>data table notebook</a>'\n",
              "            + ' to learn more about interactive tables.';\n",
              "          element.innerHTML = '';\n",
              "          dataTable['output_type'] = 'display_data';\n",
              "          await google.colab.output.renderOutput(dataTable, element);\n",
              "          const docLink = document.createElement('div');\n",
              "          docLink.innerHTML = docLinkHtml;\n",
              "          element.appendChild(docLink);\n",
              "        }\n",
              "      </script>\n",
              "    </div>\n",
              "  </div>\n",
              "  "
            ]
          },
          "metadata": {},
          "execution_count": 29
        }
      ]
    },
    {
      "cell_type": "code",
      "source": [
        "# Performance\n",
        "mse_arima = mean_squared_error(stock_test['dji'].values, forecast.values, squared=False)\n",
        "print('MSE: '+str(mse_arima))\n",
        "mae_arima = mean_absolute_error(stock_test['dji'].values, forecast.values)\n",
        "print('MAE: '+str(mae_arima))\n",
        "mape_arima = np.mean(np.abs(compare['dji_forecast'] - compare['dji'])/np.abs(compare['dji']))\n",
        "print('MAPE: '+str(mape_arima)) # 4.5% of absolute gap\n"
      ],
      "metadata": {
        "colab": {
          "base_uri": "https://localhost:8080/"
        },
        "id": "tno72cv57Y83",
        "outputId": "dc3bdf65-716c-45a6-cab8-66c60c81cbb9"
      },
      "execution_count": 54,
      "outputs": [
        {
          "output_type": "stream",
          "name": "stdout",
          "text": [
            "MSE: 1907.437516093254\n",
            "MAE: 1400.4750000000004\n",
            "MAPE: 0.04530564449162539\n"
          ]
        }
      ]
    },
    {
      "cell_type": "code",
      "source": [],
      "metadata": {
        "id": "5xo8J1XzPwkp"
      },
      "execution_count": null,
      "outputs": []
    },
    {
      "cell_type": "markdown",
      "source": [
        "**Stock Forecast with LSTM**"
      ],
      "metadata": {
        "id": "anfHmBll7KFC"
      }
    },
    {
      "cell_type": "code",
      "source": [
        "!pip install seaborn\n",
        "!pip install tensor\n",
        "import tensorflow as tf\n",
        "import matplotlib as mpl\n",
        "import matplotlib.pyplot as plt\n",
        "import numpy as np\n",
        "import os\n",
        "import pandas as pd\n",
        "import seaborn as sns\n",
        "from sklearn.model_selection import train_test_split\n",
        "from sklearm.metrics import mean_squared_error"
      ],
      "metadata": {
        "colab": {
          "base_uri": "https://localhost:8080/"
        },
        "id": "7x0JbofmXJe3",
        "outputId": "6b1fc8a3-3714-4e11-e223-64433a95e643"
      },
      "execution_count": 12,
      "outputs": [
        {
          "output_type": "stream",
          "name": "stdout",
          "text": [
            "Looking in indexes: https://pypi.org/simple, https://us-python.pkg.dev/colab-wheels/public/simple/\n",
            "Requirement already satisfied: seaborn in /usr/local/lib/python3.9/dist-packages (0.11.2)\n",
            "Requirement already satisfied: matplotlib>=2.2 in /usr/local/lib/python3.9/dist-packages (from seaborn) (3.5.3)\n",
            "Requirement already satisfied: numpy>=1.15 in /usr/local/lib/python3.9/dist-packages (from seaborn) (1.22.4)\n",
            "Requirement already satisfied: pandas>=0.23 in /usr/local/lib/python3.9/dist-packages (from seaborn) (1.3.5)\n",
            "Requirement already satisfied: scipy>=1.0 in /usr/local/lib/python3.9/dist-packages (from seaborn) (1.10.1)\n",
            "Requirement already satisfied: pyparsing>=2.2.1 in /usr/local/lib/python3.9/dist-packages (from matplotlib>=2.2->seaborn) (3.0.9)\n",
            "Requirement already satisfied: python-dateutil>=2.7 in /usr/local/lib/python3.9/dist-packages (from matplotlib>=2.2->seaborn) (2.8.2)\n",
            "Requirement already satisfied: packaging>=20.0 in /usr/local/lib/python3.9/dist-packages (from matplotlib>=2.2->seaborn) (23.0)\n",
            "Requirement already satisfied: cycler>=0.10 in /usr/local/lib/python3.9/dist-packages (from matplotlib>=2.2->seaborn) (0.11.0)\n",
            "Requirement already satisfied: fonttools>=4.22.0 in /usr/local/lib/python3.9/dist-packages (from matplotlib>=2.2->seaborn) (4.39.0)\n",
            "Requirement already satisfied: pillow>=6.2.0 in /usr/local/lib/python3.9/dist-packages (from matplotlib>=2.2->seaborn) (8.4.0)\n",
            "Requirement already satisfied: kiwisolver>=1.0.1 in /usr/local/lib/python3.9/dist-packages (from matplotlib>=2.2->seaborn) (1.4.4)\n",
            "Requirement already satisfied: pytz>=2017.3 in /usr/local/lib/python3.9/dist-packages (from pandas>=0.23->seaborn) (2022.7.1)\n",
            "Requirement already satisfied: six>=1.5 in /usr/local/lib/python3.9/dist-packages (from python-dateutil>=2.7->matplotlib>=2.2->seaborn) (1.15.0)\n",
            "Looking in indexes: https://pypi.org/simple, https://us-python.pkg.dev/colab-wheels/public/simple/\n",
            "Collecting tensor\n",
            "  Downloading tensor-0.3.6.tar.gz (50 kB)\n",
            "\u001b[2K     \u001b[90m━━━━━━━━━━━━━━━━━━━━━━━━━━━━━━━━━━━━━━━━\u001b[0m \u001b[32m50.3/50.3 KB\u001b[0m \u001b[31m1.9 MB/s\u001b[0m eta \u001b[36m0:00:00\u001b[0m\n",
            "\u001b[?25h  Preparing metadata (setup.py) ... \u001b[?25l\u001b[?25hdone\n",
            "Collecting Twisted\n",
            "  Downloading Twisted-22.10.0-py3-none-any.whl (3.1 MB)\n",
            "\u001b[2K     \u001b[90m━━━━━━━━━━━━━━━━━━━━━━━━━━━━━━━━━━━━━━━━\u001b[0m \u001b[32m3.1/3.1 MB\u001b[0m \u001b[31m26.9 MB/s\u001b[0m eta \u001b[36m0:00:00\u001b[0m\n",
            "\u001b[?25hRequirement already satisfied: PyYaml in /usr/local/lib/python3.9/dist-packages (from tensor) (6.0)\n",
            "Requirement already satisfied: protobuf in /usr/local/lib/python3.9/dist-packages (from tensor) (3.19.6)\n",
            "Collecting construct\n",
            "  Downloading construct-2.10.68.tar.gz (57 kB)\n",
            "\u001b[2K     \u001b[90m━━━━━━━━━━━━━━━━━━━━━━━━━━━━━━━━━━━━━━━━\u001b[0m \u001b[32m57.9/57.9 KB\u001b[0m \u001b[31m4.7 MB/s\u001b[0m eta \u001b[36m0:00:00\u001b[0m\n",
            "\u001b[?25h  Preparing metadata (setup.py) ... \u001b[?25l\u001b[?25hdone\n",
            "Collecting pysnmp\n",
            "  Downloading pysnmp-4.4.12-py2.py3-none-any.whl (296 kB)\n",
            "\u001b[2K     \u001b[90m━━━━━━━━━━━━━━━━━━━━━━━━━━━━━━━━━━━━━━\u001b[0m \u001b[32m296.5/296.5 KB\u001b[0m \u001b[31m22.8 MB/s\u001b[0m eta \u001b[36m0:00:00\u001b[0m\n",
            "\u001b[?25hRequirement already satisfied: pyasn1>=0.2.3 in /usr/local/lib/python3.9/dist-packages (from pysnmp->tensor) (0.4.8)\n",
            "Collecting pysmi\n",
            "  Downloading pysmi-0.3.4-py2.py3-none-any.whl (80 kB)\n",
            "\u001b[2K     \u001b[90m━━━━━━━━━━━━━━━━━━━━━━━━━━━━━━━━━━━━━━━━\u001b[0m \u001b[32m80.0/80.0 KB\u001b[0m \u001b[31m4.1 MB/s\u001b[0m eta \u001b[36m0:00:00\u001b[0m\n",
            "\u001b[?25hCollecting pycryptodomex\n",
            "  Downloading pycryptodomex-3.17-cp35-abi3-manylinux_2_17_x86_64.manylinux2014_x86_64.whl (2.1 MB)\n",
            "\u001b[2K     \u001b[90m━━━━━━━━━━━━━━━━━━━━━━━━━━━━━━━━━━━━━━━━\u001b[0m \u001b[32m2.1/2.1 MB\u001b[0m \u001b[31m21.6 MB/s\u001b[0m eta \u001b[36m0:00:00\u001b[0m\n",
            "\u001b[?25hRequirement already satisfied: attrs>=19.2.0 in /usr/local/lib/python3.9/dist-packages (from Twisted->tensor) (22.2.0)\n",
            "Collecting constantly>=15.1\n",
            "  Downloading constantly-15.1.0-py2.py3-none-any.whl (7.9 kB)\n",
            "Requirement already satisfied: typing-extensions>=3.6.5 in /usr/local/lib/python3.9/dist-packages (from Twisted->tensor) (4.5.0)\n",
            "Collecting incremental>=21.3.0\n",
            "  Downloading incremental-22.10.0-py2.py3-none-any.whl (16 kB)\n",
            "Collecting zope.interface>=4.4.2\n",
            "  Downloading zope.interface-5.5.2-cp39-cp39-manylinux_2_5_x86_64.manylinux1_x86_64.manylinux_2_12_x86_64.manylinux2010_x86_64.whl (257 kB)\n",
            "\u001b[2K     \u001b[90m━━━━━━━━━━━━━━━━━━━━━━━━━━━━━━━━━━━━━━\u001b[0m \u001b[32m257.9/257.9 KB\u001b[0m \u001b[31m15.3 MB/s\u001b[0m eta \u001b[36m0:00:00\u001b[0m\n",
            "\u001b[?25hCollecting Automat>=0.8.0\n",
            "  Downloading Automat-22.10.0-py2.py3-none-any.whl (26 kB)\n",
            "Collecting hyperlink>=17.1.1\n",
            "  Downloading hyperlink-21.0.0-py2.py3-none-any.whl (74 kB)\n",
            "\u001b[2K     \u001b[90m━━━━━━━━━━━━━━━━━━━━━━━━━━━━━━━━━━━━━━━━\u001b[0m \u001b[32m74.6/74.6 KB\u001b[0m \u001b[31m7.5 MB/s\u001b[0m eta \u001b[36m0:00:00\u001b[0m\n",
            "\u001b[?25hRequirement already satisfied: six in /usr/local/lib/python3.9/dist-packages (from Automat>=0.8.0->Twisted->tensor) (1.15.0)\n",
            "Requirement already satisfied: idna>=2.5 in /usr/local/lib/python3.9/dist-packages (from hyperlink>=17.1.1->Twisted->tensor) (2.10)\n",
            "Requirement already satisfied: setuptools in /usr/local/lib/python3.9/dist-packages (from zope.interface>=4.4.2->Twisted->tensor) (57.4.0)\n",
            "Collecting ply\n",
            "  Downloading ply-3.11-py2.py3-none-any.whl (49 kB)\n",
            "\u001b[2K     \u001b[90m━━━━━━━━━━━━━━━━━━━━━━━━━━━━━━━━━━━━━━━━\u001b[0m \u001b[32m49.6/49.6 KB\u001b[0m \u001b[31m3.3 MB/s\u001b[0m eta \u001b[36m0:00:00\u001b[0m\n",
            "\u001b[?25hBuilding wheels for collected packages: tensor, construct\n",
            "  Building wheel for tensor (setup.py) ... \u001b[?25l\u001b[?25hdone\n",
            "  Created wheel for tensor: filename=tensor-0.3.6-py3-none-any.whl size=71569 sha256=24fcf35b1b8af4e00ce6777157e4b6fc3b24d39234160b63e42426d0901d4570\n",
            "  Stored in directory: /root/.cache/pip/wheels/74/86/de/a812020c1b6bac75652227a1c315400422857adba7252ff69f\n",
            "  Building wheel for construct (setup.py) ... \u001b[?25l\u001b[?25hdone\n",
            "  Created wheel for construct: filename=construct-2.10.68-py3-none-any.whl size=59226 sha256=51ffdbb1bfe9d410a4fada6c6736f50793636f2c6dc74ed1d1d55ce721d25e9a\n",
            "  Stored in directory: /root/.cache/pip/wheels/00/1c/64/ddaac89a721654e15e30ae193023c26da4c8677547cb38268b\n",
            "Successfully built tensor construct\n",
            "Installing collected packages: ply, incremental, constantly, zope.interface, pysmi, pycryptodomex, hyperlink, construct, Automat, Twisted, pysnmp, tensor\n",
            "Successfully installed Automat-22.10.0 Twisted-22.10.0 constantly-15.1.0 construct-2.10.68 hyperlink-21.0.0 incremental-22.10.0 ply-3.11 pycryptodomex-3.17 pysmi-0.3.4 pysnmp-4.4.12 tensor-0.3.6 zope.interface-5.5.2\n"
          ]
        }
      ]
    },
    {
      "cell_type": "code",
      "source": [
        "url = \"https://raw.githubusercontent.com/pangsoo/midterm/main/middata.csv\"\n",
        "df = pd.read_csv(url)\n",
        "print(df.head())"
      ],
      "metadata": {
        "colab": {
          "base_uri": "https://localhost:8080/"
        },
        "id": "V5IXpRiuuasg",
        "outputId": "3b55905e-b964-4e4a-e949-580f3be3650d"
      },
      "execution_count": 274,
      "outputs": [
        {
          "output_type": "stream",
          "name": "stdout",
          "text": [
            "      date        dji     eur  10yr_R  eu_money  us_money       ip    coal  \\\n",
            "0  2010-01  10,067.33  1.3863   3.588      1155    1995.0  89.1936   95.30   \n",
            "1  2010-02  10,325.26  1.3626   3.619      1163    2115.2  89.5089   93.85   \n",
            "2  2010-03  10,856.63  1.3512   3.833      1183    2079.6  90.1449   94.95   \n",
            "3  2010-04  11,008.61  1.3298   3.659      1206    2014.4  90.4740  103.85   \n",
            "4  2010-05  10,136.63  1.2306   3.303      1227    2012.3  91.7131  100.20   \n",
            "\n",
            "      nok   usd-nok  \n",
            "0  5.9270  0.168719  \n",
            "1  5.9058  0.169325  \n",
            "2  5.9395  0.168364  \n",
            "3  5.9060  0.169319  \n",
            "4  6.4550  0.154919  \n"
          ]
        }
      ]
    },
    {
      "cell_type": "code",
      "source": [
        "df = df.drop(columns = ['date'])\n",
        "df['dji'] = df['dji'].str.replace(',', '').astype(float)\n",
        "df.head()"
      ],
      "metadata": {
        "colab": {
          "base_uri": "https://localhost:8080/",
          "height": 250
        },
        "id": "pNB-lLQjutdA",
        "outputId": "aebd30e3-4dfc-46d6-cca6-dada3c2c5650"
      },
      "execution_count": 275,
      "outputs": [
        {
          "output_type": "execute_result",
          "data": {
            "text/plain": [
              "        dji     eur  10yr_R  eu_money  us_money       ip    coal     nok  \\\n",
              "0  10067.33  1.3863   3.588      1155    1995.0  89.1936   95.30  5.9270   \n",
              "1  10325.26  1.3626   3.619      1163    2115.2  89.5089   93.85  5.9058   \n",
              "2  10856.63  1.3512   3.833      1183    2079.6  90.1449   94.95  5.9395   \n",
              "3  11008.61  1.3298   3.659      1206    2014.4  90.4740  103.85  5.9060   \n",
              "4  10136.63  1.2306   3.303      1227    2012.3  91.7131  100.20  6.4550   \n",
              "\n",
              "    usd-nok  \n",
              "0  0.168719  \n",
              "1  0.169325  \n",
              "2  0.168364  \n",
              "3  0.169319  \n",
              "4  0.154919  "
            ],
            "text/html": [
              "\n",
              "  <div id=\"df-6bc89340-f6cf-4adf-a90d-1ee3500677fe\">\n",
              "    <div class=\"colab-df-container\">\n",
              "      <div>\n",
              "<style scoped>\n",
              "    .dataframe tbody tr th:only-of-type {\n",
              "        vertical-align: middle;\n",
              "    }\n",
              "\n",
              "    .dataframe tbody tr th {\n",
              "        vertical-align: top;\n",
              "    }\n",
              "\n",
              "    .dataframe thead th {\n",
              "        text-align: right;\n",
              "    }\n",
              "</style>\n",
              "<table border=\"1\" class=\"dataframe\">\n",
              "  <thead>\n",
              "    <tr style=\"text-align: right;\">\n",
              "      <th></th>\n",
              "      <th>dji</th>\n",
              "      <th>eur</th>\n",
              "      <th>10yr_R</th>\n",
              "      <th>eu_money</th>\n",
              "      <th>us_money</th>\n",
              "      <th>ip</th>\n",
              "      <th>coal</th>\n",
              "      <th>nok</th>\n",
              "      <th>usd-nok</th>\n",
              "    </tr>\n",
              "  </thead>\n",
              "  <tbody>\n",
              "    <tr>\n",
              "      <th>0</th>\n",
              "      <td>10067.33</td>\n",
              "      <td>1.3863</td>\n",
              "      <td>3.588</td>\n",
              "      <td>1155</td>\n",
              "      <td>1995.0</td>\n",
              "      <td>89.1936</td>\n",
              "      <td>95.30</td>\n",
              "      <td>5.9270</td>\n",
              "      <td>0.168719</td>\n",
              "    </tr>\n",
              "    <tr>\n",
              "      <th>1</th>\n",
              "      <td>10325.26</td>\n",
              "      <td>1.3626</td>\n",
              "      <td>3.619</td>\n",
              "      <td>1163</td>\n",
              "      <td>2115.2</td>\n",
              "      <td>89.5089</td>\n",
              "      <td>93.85</td>\n",
              "      <td>5.9058</td>\n",
              "      <td>0.169325</td>\n",
              "    </tr>\n",
              "    <tr>\n",
              "      <th>2</th>\n",
              "      <td>10856.63</td>\n",
              "      <td>1.3512</td>\n",
              "      <td>3.833</td>\n",
              "      <td>1183</td>\n",
              "      <td>2079.6</td>\n",
              "      <td>90.1449</td>\n",
              "      <td>94.95</td>\n",
              "      <td>5.9395</td>\n",
              "      <td>0.168364</td>\n",
              "    </tr>\n",
              "    <tr>\n",
              "      <th>3</th>\n",
              "      <td>11008.61</td>\n",
              "      <td>1.3298</td>\n",
              "      <td>3.659</td>\n",
              "      <td>1206</td>\n",
              "      <td>2014.4</td>\n",
              "      <td>90.4740</td>\n",
              "      <td>103.85</td>\n",
              "      <td>5.9060</td>\n",
              "      <td>0.169319</td>\n",
              "    </tr>\n",
              "    <tr>\n",
              "      <th>4</th>\n",
              "      <td>10136.63</td>\n",
              "      <td>1.2306</td>\n",
              "      <td>3.303</td>\n",
              "      <td>1227</td>\n",
              "      <td>2012.3</td>\n",
              "      <td>91.7131</td>\n",
              "      <td>100.20</td>\n",
              "      <td>6.4550</td>\n",
              "      <td>0.154919</td>\n",
              "    </tr>\n",
              "  </tbody>\n",
              "</table>\n",
              "</div>\n",
              "      <button class=\"colab-df-convert\" onclick=\"convertToInteractive('df-6bc89340-f6cf-4adf-a90d-1ee3500677fe')\"\n",
              "              title=\"Convert this dataframe to an interactive table.\"\n",
              "              style=\"display:none;\">\n",
              "        \n",
              "  <svg xmlns=\"http://www.w3.org/2000/svg\" height=\"24px\"viewBox=\"0 0 24 24\"\n",
              "       width=\"24px\">\n",
              "    <path d=\"M0 0h24v24H0V0z\" fill=\"none\"/>\n",
              "    <path d=\"M18.56 5.44l.94 2.06.94-2.06 2.06-.94-2.06-.94-.94-2.06-.94 2.06-2.06.94zm-11 1L8.5 8.5l.94-2.06 2.06-.94-2.06-.94L8.5 2.5l-.94 2.06-2.06.94zm10 10l.94 2.06.94-2.06 2.06-.94-2.06-.94-.94-2.06-.94 2.06-2.06.94z\"/><path d=\"M17.41 7.96l-1.37-1.37c-.4-.4-.92-.59-1.43-.59-.52 0-1.04.2-1.43.59L10.3 9.45l-7.72 7.72c-.78.78-.78 2.05 0 2.83L4 21.41c.39.39.9.59 1.41.59.51 0 1.02-.2 1.41-.59l7.78-7.78 2.81-2.81c.8-.78.8-2.07 0-2.86zM5.41 20L4 18.59l7.72-7.72 1.47 1.35L5.41 20z\"/>\n",
              "  </svg>\n",
              "      </button>\n",
              "      \n",
              "  <style>\n",
              "    .colab-df-container {\n",
              "      display:flex;\n",
              "      flex-wrap:wrap;\n",
              "      gap: 12px;\n",
              "    }\n",
              "\n",
              "    .colab-df-convert {\n",
              "      background-color: #E8F0FE;\n",
              "      border: none;\n",
              "      border-radius: 50%;\n",
              "      cursor: pointer;\n",
              "      display: none;\n",
              "      fill: #1967D2;\n",
              "      height: 32px;\n",
              "      padding: 0 0 0 0;\n",
              "      width: 32px;\n",
              "    }\n",
              "\n",
              "    .colab-df-convert:hover {\n",
              "      background-color: #E2EBFA;\n",
              "      box-shadow: 0px 1px 2px rgba(60, 64, 67, 0.3), 0px 1px 3px 1px rgba(60, 64, 67, 0.15);\n",
              "      fill: #174EA6;\n",
              "    }\n",
              "\n",
              "    [theme=dark] .colab-df-convert {\n",
              "      background-color: #3B4455;\n",
              "      fill: #D2E3FC;\n",
              "    }\n",
              "\n",
              "    [theme=dark] .colab-df-convert:hover {\n",
              "      background-color: #434B5C;\n",
              "      box-shadow: 0px 1px 3px 1px rgba(0, 0, 0, 0.15);\n",
              "      filter: drop-shadow(0px 1px 2px rgba(0, 0, 0, 0.3));\n",
              "      fill: #FFFFFF;\n",
              "    }\n",
              "  </style>\n",
              "\n",
              "      <script>\n",
              "        const buttonEl =\n",
              "          document.querySelector('#df-6bc89340-f6cf-4adf-a90d-1ee3500677fe button.colab-df-convert');\n",
              "        buttonEl.style.display =\n",
              "          google.colab.kernel.accessAllowed ? 'block' : 'none';\n",
              "\n",
              "        async function convertToInteractive(key) {\n",
              "          const element = document.querySelector('#df-6bc89340-f6cf-4adf-a90d-1ee3500677fe');\n",
              "          const dataTable =\n",
              "            await google.colab.kernel.invokeFunction('convertToInteractive',\n",
              "                                                     [key], {});\n",
              "          if (!dataTable) return;\n",
              "\n",
              "          const docLinkHtml = 'Like what you see? Visit the ' +\n",
              "            '<a target=\"_blank\" href=https://colab.research.google.com/notebooks/data_table.ipynb>data table notebook</a>'\n",
              "            + ' to learn more about interactive tables.';\n",
              "          element.innerHTML = '';\n",
              "          dataTable['output_type'] = 'display_data';\n",
              "          await google.colab.output.renderOutput(dataTable, element);\n",
              "          const docLink = document.createElement('div');\n",
              "          docLink.innerHTML = docLinkHtml;\n",
              "          element.appendChild(docLink);\n",
              "        }\n",
              "      </script>\n",
              "    </div>\n",
              "  </div>\n",
              "  "
            ]
          },
          "metadata": {},
          "execution_count": 275
        }
      ]
    },
    {
      "cell_type": "code",
      "source": [
        "# setting Target \n",
        "\n",
        "target_list = ['dji', 'eur']\n",
        "target = target_list[0]\n",
        "\n",
        "lag = 6\n",
        "WINDOW_SIZE= 6  # reading 6mo in order to forecast 6mo \n",
        "\n",
        "def make_dataset(data, label, window_size = WINDOW_SIZE):\n",
        "  feature_list = []\n",
        "  label_list = []\n",
        "  for i in range(len(data) - window_size):\n",
        "    feature_list.append(np.array(data.iloc[i:i+window_size]))\n",
        "    label_list.append(np.array(label.iloc[i+window_size]))\n",
        "  return np.array(feature_list), np.array(label_list)"
      ],
      "metadata": {
        "id": "4WmG3IPtRtXG"
      },
      "execution_count": 276,
      "outputs": []
    },
    {
      "cell_type": "code",
      "source": [
        "from sklearn.preprocessing import MinMaxScaler\n",
        "\n",
        "scaler = MinMaxScaler()\n",
        "mini = min(df[target])\n",
        "maxi = max(df[target])\n",
        "scale = maxi - mini\n",
        "\n",
        "scaled = scaler.fit_transform(df)\n",
        "columns = df.columns\n",
        "df = pd.DataFrame(scaled, columns = columns)\n",
        "df.tail()"
      ],
      "metadata": {
        "colab": {
          "base_uri": "https://localhost:8080/",
          "height": 270
        },
        "id": "we_DGBw4xSGs",
        "outputId": "4180d1b4-3c69-416a-f623-3ca0c2ad204c"
      },
      "execution_count": 277,
      "outputs": [
        {
          "output_type": "execute_result",
          "data": {
            "text/plain": [
              "          dji     eur    10yr_R  eu_money  us_money        ip      coal  \\\n",
              "152  0.713594  0.0000  0.937162  0.970345  0.774883  0.999048  1.000000   \n",
              "153  0.864333  0.0168  1.000000  0.985173  0.758867  1.000000  0.798909   \n",
              "154  0.934090  0.1212  0.875178  1.000000  0.776635  0.969028  0.904651   \n",
              "155  0.879876  0.1806  0.951379  0.983108  0.773647  0.915090  0.923227   \n",
              "156  0.915247  0.2124  0.846460  0.937688  0.756351  0.916460  0.527280   \n",
              "\n",
              "          nok   usd-nok  \n",
              "152  1.000000  0.000000  \n",
              "153  0.911525  0.044705  \n",
              "154  0.814764  0.098784  \n",
              "155  0.807364  0.103168  \n",
              "156  0.840742  0.083685  "
            ],
            "text/html": [
              "\n",
              "  <div id=\"df-eaeacdff-c450-4648-bbdc-4646f3dbc49e\">\n",
              "    <div class=\"colab-df-container\">\n",
              "      <div>\n",
              "<style scoped>\n",
              "    .dataframe tbody tr th:only-of-type {\n",
              "        vertical-align: middle;\n",
              "    }\n",
              "\n",
              "    .dataframe tbody tr th {\n",
              "        vertical-align: top;\n",
              "    }\n",
              "\n",
              "    .dataframe thead th {\n",
              "        text-align: right;\n",
              "    }\n",
              "</style>\n",
              "<table border=\"1\" class=\"dataframe\">\n",
              "  <thead>\n",
              "    <tr style=\"text-align: right;\">\n",
              "      <th></th>\n",
              "      <th>dji</th>\n",
              "      <th>eur</th>\n",
              "      <th>10yr_R</th>\n",
              "      <th>eu_money</th>\n",
              "      <th>us_money</th>\n",
              "      <th>ip</th>\n",
              "      <th>coal</th>\n",
              "      <th>nok</th>\n",
              "      <th>usd-nok</th>\n",
              "    </tr>\n",
              "  </thead>\n",
              "  <tbody>\n",
              "    <tr>\n",
              "      <th>152</th>\n",
              "      <td>0.713594</td>\n",
              "      <td>0.0000</td>\n",
              "      <td>0.937162</td>\n",
              "      <td>0.970345</td>\n",
              "      <td>0.774883</td>\n",
              "      <td>0.999048</td>\n",
              "      <td>1.000000</td>\n",
              "      <td>1.000000</td>\n",
              "      <td>0.000000</td>\n",
              "    </tr>\n",
              "    <tr>\n",
              "      <th>153</th>\n",
              "      <td>0.864333</td>\n",
              "      <td>0.0168</td>\n",
              "      <td>1.000000</td>\n",
              "      <td>0.985173</td>\n",
              "      <td>0.758867</td>\n",
              "      <td>1.000000</td>\n",
              "      <td>0.798909</td>\n",
              "      <td>0.911525</td>\n",
              "      <td>0.044705</td>\n",
              "    </tr>\n",
              "    <tr>\n",
              "      <th>154</th>\n",
              "      <td>0.934090</td>\n",
              "      <td>0.1212</td>\n",
              "      <td>0.875178</td>\n",
              "      <td>1.000000</td>\n",
              "      <td>0.776635</td>\n",
              "      <td>0.969028</td>\n",
              "      <td>0.904651</td>\n",
              "      <td>0.814764</td>\n",
              "      <td>0.098784</td>\n",
              "    </tr>\n",
              "    <tr>\n",
              "      <th>155</th>\n",
              "      <td>0.879876</td>\n",
              "      <td>0.1806</td>\n",
              "      <td>0.951379</td>\n",
              "      <td>0.983108</td>\n",
              "      <td>0.773647</td>\n",
              "      <td>0.915090</td>\n",
              "      <td>0.923227</td>\n",
              "      <td>0.807364</td>\n",
              "      <td>0.103168</td>\n",
              "    </tr>\n",
              "    <tr>\n",
              "      <th>156</th>\n",
              "      <td>0.915247</td>\n",
              "      <td>0.2124</td>\n",
              "      <td>0.846460</td>\n",
              "      <td>0.937688</td>\n",
              "      <td>0.756351</td>\n",
              "      <td>0.916460</td>\n",
              "      <td>0.527280</td>\n",
              "      <td>0.840742</td>\n",
              "      <td>0.083685</td>\n",
              "    </tr>\n",
              "  </tbody>\n",
              "</table>\n",
              "</div>\n",
              "      <button class=\"colab-df-convert\" onclick=\"convertToInteractive('df-eaeacdff-c450-4648-bbdc-4646f3dbc49e')\"\n",
              "              title=\"Convert this dataframe to an interactive table.\"\n",
              "              style=\"display:none;\">\n",
              "        \n",
              "  <svg xmlns=\"http://www.w3.org/2000/svg\" height=\"24px\"viewBox=\"0 0 24 24\"\n",
              "       width=\"24px\">\n",
              "    <path d=\"M0 0h24v24H0V0z\" fill=\"none\"/>\n",
              "    <path d=\"M18.56 5.44l.94 2.06.94-2.06 2.06-.94-2.06-.94-.94-2.06-.94 2.06-2.06.94zm-11 1L8.5 8.5l.94-2.06 2.06-.94-2.06-.94L8.5 2.5l-.94 2.06-2.06.94zm10 10l.94 2.06.94-2.06 2.06-.94-2.06-.94-.94-2.06-.94 2.06-2.06.94z\"/><path d=\"M17.41 7.96l-1.37-1.37c-.4-.4-.92-.59-1.43-.59-.52 0-1.04.2-1.43.59L10.3 9.45l-7.72 7.72c-.78.78-.78 2.05 0 2.83L4 21.41c.39.39.9.59 1.41.59.51 0 1.02-.2 1.41-.59l7.78-7.78 2.81-2.81c.8-.78.8-2.07 0-2.86zM5.41 20L4 18.59l7.72-7.72 1.47 1.35L5.41 20z\"/>\n",
              "  </svg>\n",
              "      </button>\n",
              "      \n",
              "  <style>\n",
              "    .colab-df-container {\n",
              "      display:flex;\n",
              "      flex-wrap:wrap;\n",
              "      gap: 12px;\n",
              "    }\n",
              "\n",
              "    .colab-df-convert {\n",
              "      background-color: #E8F0FE;\n",
              "      border: none;\n",
              "      border-radius: 50%;\n",
              "      cursor: pointer;\n",
              "      display: none;\n",
              "      fill: #1967D2;\n",
              "      height: 32px;\n",
              "      padding: 0 0 0 0;\n",
              "      width: 32px;\n",
              "    }\n",
              "\n",
              "    .colab-df-convert:hover {\n",
              "      background-color: #E2EBFA;\n",
              "      box-shadow: 0px 1px 2px rgba(60, 64, 67, 0.3), 0px 1px 3px 1px rgba(60, 64, 67, 0.15);\n",
              "      fill: #174EA6;\n",
              "    }\n",
              "\n",
              "    [theme=dark] .colab-df-convert {\n",
              "      background-color: #3B4455;\n",
              "      fill: #D2E3FC;\n",
              "    }\n",
              "\n",
              "    [theme=dark] .colab-df-convert:hover {\n",
              "      background-color: #434B5C;\n",
              "      box-shadow: 0px 1px 3px 1px rgba(0, 0, 0, 0.15);\n",
              "      filter: drop-shadow(0px 1px 2px rgba(0, 0, 0, 0.3));\n",
              "      fill: #FFFFFF;\n",
              "    }\n",
              "  </style>\n",
              "\n",
              "      <script>\n",
              "        const buttonEl =\n",
              "          document.querySelector('#df-eaeacdff-c450-4648-bbdc-4646f3dbc49e button.colab-df-convert');\n",
              "        buttonEl.style.display =\n",
              "          google.colab.kernel.accessAllowed ? 'block' : 'none';\n",
              "\n",
              "        async function convertToInteractive(key) {\n",
              "          const element = document.querySelector('#df-eaeacdff-c450-4648-bbdc-4646f3dbc49e');\n",
              "          const dataTable =\n",
              "            await google.colab.kernel.invokeFunction('convertToInteractive',\n",
              "                                                     [key], {});\n",
              "          if (!dataTable) return;\n",
              "\n",
              "          const docLinkHtml = 'Like what you see? Visit the ' +\n",
              "            '<a target=\"_blank\" href=https://colab.research.google.com/notebooks/data_table.ipynb>data table notebook</a>'\n",
              "            + ' to learn more about interactive tables.';\n",
              "          element.innerHTML = '';\n",
              "          dataTable['output_type'] = 'display_data';\n",
              "          await google.colab.output.renderOutput(dataTable, element);\n",
              "          const docLink = document.createElement('div');\n",
              "          docLink.innerHTML = docLinkHtml;\n",
              "          element.appendChild(docLink);\n",
              "        }\n",
              "      </script>\n",
              "    </div>\n",
              "  </div>\n",
              "  "
            ]
          },
          "metadata": {},
          "execution_count": 277
        }
      ]
    },
    {
      "cell_type": "code",
      "source": [
        "y = df.loc[:, df.columns == target][lag:]\n",
        "x = df.loc[:, df.columns != target][:-lag]\n",
        "test = df.loc[:, df.columns != target][-(lag + WINDOW_SIZE):]\n",
        "\n",
        "rng = pd.date_range('2010-07-01', periods = len(y), freq = 'M')\n",
        "y.index = rng\n",
        "x.index = rng\n",
        "\n",
        "df = pd.concat([y,x], axis = 1)\n",
        "\n",
        "plt.figure(figsize = (16,9))\n",
        "sns.lineplot(y=df[target], x = df.index)\n",
        "plt.xlabel('date')\n",
        "plt.ylabel('index')"
      ],
      "metadata": {
        "colab": {
          "base_uri": "https://localhost:8080/",
          "height": 390
        },
        "id": "QGTljlT8yBnf",
        "outputId": "8f64a028-72f7-4b9c-a629-ddeed559f3a5"
      },
      "execution_count": 278,
      "outputs": [
        {
          "output_type": "execute_result",
          "data": {
            "text/plain": [
              "Text(0, 0.5, 'index')"
            ]
          },
          "metadata": {},
          "execution_count": 278
        },
        {
          "output_type": "display_data",
          "data": {
            "text/plain": [
              "<Figure size 1152x648 with 1 Axes>"
            ],
            "image/png": "[encoded data removed]"
          },
          "metadata": {
            "needs_background": "light"
          }
        }
      ]
    },
    {
      "cell_type": "code",
      "source": [
        "n_train = int(len(df) * 0.85)\n",
        "train = df\n",
        "n_train"
      ],
      "metadata": {
        "colab": {
          "base_uri": "https://localhost:8080/"
        },
        "id": "YyMfiTpc0HGu",
        "outputId": "6d998ac2-07c9-4fa0-9a4b-ccf896db68fb"
      },
      "execution_count": 279,
      "outputs": [
        {
          "output_type": "execute_result",
          "data": {
            "text/plain": [
              "128"
            ]
          },
          "metadata": {},
          "execution_count": 279
        }
      ]
    },
    {
      "cell_type": "code",
      "source": [
        "from sklearn.model_selection import train_test_split\n",
        "\n",
        "feature_cols = x.columns\n",
        "label_cols = y.columns\n",
        "\n",
        "train_feature = x\n",
        "train_label = y\n",
        "\n",
        "train_feature, train_label = make_dataset(train_feature, train_label, 6)\n",
        "x_train, x_valid, y_train, y_valid = train_test_split(train_feature, train_label, test_size = len(test))\n",
        "x_train.shape, x_valid.shape, y_train.shape, y_valid.shape"
      ],
      "metadata": {
        "colab": {
          "base_uri": "https://localhost:8080/"
        },
        "id": "u3Zb8fPF0SED",
        "outputId": "64008f3c-5e30-410c-9070-a7e2cf010c1c"
      },
      "execution_count": 280,
      "outputs": [
        {
          "output_type": "execute_result",
          "data": {
            "text/plain": [
              "((133, 6, 8), (12, 6, 8), (133, 1), (12, 1))"
            ]
          },
          "metadata": {},
          "execution_count": 280
        }
      ]
    },
    {
      "cell_type": "code",
      "source": [
        "np.shape(test)"
      ],
      "metadata": {
        "colab": {
          "base_uri": "https://localhost:8080/"
        },
        "id": "4k2QCQRQ2NnR",
        "outputId": "a12025db-6768-4355-f422-30ab4249a4f0"
      },
      "execution_count": 281,
      "outputs": [
        {
          "output_type": "execute_result",
          "data": {
            "text/plain": [
              "(12, 8)"
            ]
          },
          "metadata": {},
          "execution_count": 281
        }
      ]
    },
    {
      "cell_type": "code",
      "source": [
        "np.shape(train)"
      ],
      "metadata": {
        "colab": {
          "base_uri": "https://localhost:8080/"
        },
        "id": "aCEFCHGBlece",
        "outputId": "5ff7b6ae-16aa-43fe-c8bc-1ea5fb0853fa"
      },
      "execution_count": 282,
      "outputs": [
        {
          "output_type": "execute_result",
          "data": {
            "text/plain": [
              "(151, 9)"
            ]
          },
          "metadata": {},
          "execution_count": 282
        }
      ]
    },
    {
      "cell_type": "code",
      "source": [
        "test_feature = test\n",
        "test_label = pd.DataFrame([np.nan] * len(test_feature))\n",
        "\n",
        "test_feature.shape, test_label.shape"
      ],
      "metadata": {
        "colab": {
          "base_uri": "https://localhost:8080/"
        },
        "id": "7nKr7ZMz6nFD",
        "outputId": "72583690-2e73-49ab-f654-e9816c2ad889"
      },
      "execution_count": 283,
      "outputs": [
        {
          "output_type": "execute_result",
          "data": {
            "text/plain": [
              "((12, 8), (12, 1))"
            ]
          },
          "metadata": {},
          "execution_count": 283
        }
      ]
    },
    {
      "cell_type": "code",
      "source": [
        "test_feature, test_label = make_dataset(test_feature, test_label, 6)\n",
        "test_feature.shape, test_label.shape"
      ],
      "metadata": {
        "colab": {
          "base_uri": "https://localhost:8080/"
        },
        "id": "J1gbQJcg6zrJ",
        "outputId": "d895fa38-c71f-4289-e8f5-a93879439369"
      },
      "execution_count": 284,
      "outputs": [
        {
          "output_type": "execute_result",
          "data": {
            "text/plain": [
              "((6, 6, 8), (6, 1))"
            ]
          },
          "metadata": {},
          "execution_count": 284
        }
      ]
    },
    {
      "cell_type": "markdown",
      "source": [
        "**Model**"
      ],
      "metadata": {
        "id": "XdjNW95o7Ecc"
      }
    },
    {
      "cell_type": "code",
      "source": [
        "from tensorflow.keras.models import Sequential\n",
        "from tensorflow.keras.layers import Dense, LSTM, Conv1D, Lambda,Dropout, Flatten\n",
        "from tensorflow.keras.losses import Huber\n",
        "from tensorflow.keras.optimizers import Adam, SGD\n",
        "from tensorflow.keras.callbacks import EarlyStopping, ModelCheckpoint\n",
        "\n",
        "model = Sequential()\n",
        "model.add(LSTM(units=256, return_sequences=True, activation='tanh', input_shape = (train_feature.shape[1], train_feature.shape[2])))\n",
        "model.add(LSTM(units=64, return_sequences=True, activation='tanh'))\n",
        "model.add(LSTM(units=32, activation = 'tanh'))\n",
        "model.add(Dense(units=1))\n",
        "model.summary()"
      ],
      "metadata": {
        "colab": {
          "base_uri": "https://localhost:8080/"
        },
        "id": "hkxwf8l969Jj",
        "outputId": "6fcbfbc0-70d2-4350-ef7b-2b996d694987"
      },
      "execution_count": 285,
      "outputs": [
        {
          "output_type": "stream",
          "name": "stdout",
          "text": [
            "Model: \"sequential_11\"\n",
            "_________________________________________________________________\n",
            " Layer (type)                Output Shape              Param #   \n",
            "=================================================================\n",
            " lstm_33 (LSTM)              (None, 6, 256)            271360    \n",
            "                                                                 \n",
            " lstm_34 (LSTM)              (None, 6, 64)             82176     \n",
            "                                                                 \n",
            " lstm_35 (LSTM)              (None, 32)                12416     \n",
            "                                                                 \n",
            " dense_11 (Dense)            (None, 1)                 33        \n",
            "                                                                 \n",
            "=================================================================\n",
            "Total params: 365,985\n",
            "Trainable params: 365,985\n",
            "Non-trainable params: 0\n",
            "_________________________________________________________________\n"
          ]
        }
      ]
    },
    {
      "cell_type": "code",
      "source": [
        "# Using Huber() of which performance is good for Sequence\n",
        "\n",
        "loss = Huber()\n",
        "optimizer = tf.keras.optimizers.SGD(momentum = 0.9)\n",
        "model.compile(loss=Huber(), optimizer = optimizer, metrics = ['mae'])"
      ],
      "metadata": {
        "id": "04XI0AJf7BmR"
      },
      "execution_count": 286,
      "outputs": []
    },
    {
      "cell_type": "code",
      "source": [
        "# Stop learning if val_loss is not improved in ten epochs with earlystopping\n",
        "\n",
        "earlystopping = EarlyStopping(monitor = 'val_loss', patience = 10)\n",
        "\n",
        "# Checkpointer created on val_loss\n",
        "\n",
        "filename = os.path.join('tmp', 'checkpointer.ckpt')\n",
        "checkpoint = ModelCheckpoint(filename, \n",
        "                             save_weights_only = True,\n",
        "                             save_best_only = True,\n",
        "                             monitor = 'val_loss',\n",
        "                             verbose = 1)\n"
      ],
      "metadata": {
        "id": "G-JFDDESYGXb"
      },
      "execution_count": 287,
      "outputs": []
    },
    {
      "cell_type": "code",
      "source": [
        "history = model.fit(x_train, y_train,\n",
        "                    validation_data = (x_valid, y_valid),\n",
        "                    epochs = 1000,\n",
        "                    callbacks = [checkpoint, earlystopping])"
      ],
      "metadata": {
        "colab": {
          "base_uri": "https://localhost:8080/"
        },
        "id": "OkI5MixNYzvl",
        "outputId": "78aed48c-3ccc-468e-8864-365eb05d2b8e"
      },
      "execution_count": 288,
      "outputs": [
        {
          "output_type": "stream",
          "name": "stdout",
          "text": [
            "Epoch 1/1000\n",
            "4/5 [=======================>......] - ETA: 0s - loss: 0.1226 - mae: 0.4155\n",
            "Epoch 1: val_loss improved from inf to 0.08698, saving model to tmp/checkpointer.ckpt\n",
            "5/5 [==============================] - 11s 440ms/step - loss: 0.1250 - mae: 0.4207 - val_loss: 0.0870 - val_mae: 0.3322\n",
            "Epoch 2/1000\n",
            "5/5 [==============================] - ETA: 0s - loss: 0.0666 - mae: 0.2802\n",
            "Epoch 2: val_loss improved from 0.08698 to 0.03488, saving model to tmp/checkpointer.ckpt\n",
            "5/5 [==============================] - 0s 60ms/step - loss: 0.0666 - mae: 0.2802 - val_loss: 0.0349 - val_mae: 0.2140\n",
            "Epoch 3/1000\n",
            "5/5 [==============================] - ETA: 0s - loss: 0.0370 - mae: 0.2373\n",
            "Epoch 3: val_loss improved from 0.03488 to 0.03372, saving model to tmp/checkpointer.ckpt\n",
            "5/5 [==============================] - 0s 61ms/step - loss: 0.0370 - mae: 0.2373 - val_loss: 0.0337 - val_mae: 0.2270\n",
            "Epoch 4/1000\n",
            "5/5 [==============================] - ETA: 0s - loss: 0.0434 - mae: 0.2558\n",
            "Epoch 4: val_loss did not improve from 0.03372\n",
            "5/5 [==============================] - 0s 52ms/step - loss: 0.0434 - mae: 0.2558 - val_loss: 0.0382 - val_mae: 0.2351\n",
            "Epoch 5/1000\n",
            "5/5 [==============================] - ETA: 0s - loss: 0.0438 - mae: 0.2552\n",
            "Epoch 5: val_loss improved from 0.03372 to 0.03255, saving model to tmp/checkpointer.ckpt\n",
            "5/5 [==============================] - 0s 59ms/step - loss: 0.0438 - mae: 0.2552 - val_loss: 0.0325 - val_mae: 0.2232\n",
            "Epoch 6/1000\n",
            "5/5 [==============================] - ETA: 0s - loss: 0.0369 - mae: 0.2397\n",
            "Epoch 6: val_loss improved from 0.03255 to 0.02821, saving model to tmp/checkpointer.ckpt\n",
            "5/5 [==============================] - 0s 66ms/step - loss: 0.0369 - mae: 0.2397 - val_loss: 0.0282 - val_mae: 0.2085\n",
            "Epoch 7/1000\n",
            "4/5 [=======================>......] - ETA: 0s - loss: 0.0326 - mae: 0.2257\n",
            "Epoch 7: val_loss did not improve from 0.02821\n",
            "5/5 [==============================] - 0s 54ms/step - loss: 0.0327 - mae: 0.2255 - val_loss: 0.0285 - val_mae: 0.2018\n",
            "Epoch 8/1000\n",
            "5/5 [==============================] - ETA: 0s - loss: 0.0325 - mae: 0.2194\n",
            "Epoch 8: val_loss did not improve from 0.02821\n",
            "5/5 [==============================] - 0s 52ms/step - loss: 0.0325 - mae: 0.2194 - val_loss: 0.0288 - val_mae: 0.1995\n",
            "Epoch 9/1000\n",
            "4/5 [=======================>......] - ETA: 0s - loss: 0.0325 - mae: 0.2182\n",
            "Epoch 9: val_loss improved from 0.02821 to 0.02713, saving model to tmp/checkpointer.ckpt\n",
            "5/5 [==============================] - 0s 64ms/step - loss: 0.0319 - mae: 0.2158 - val_loss: 0.0271 - val_mae: 0.1967\n",
            "Epoch 10/1000\n",
            "5/5 [==============================] - ETA: 0s - loss: 0.0306 - mae: 0.2150\n",
            "Epoch 10: val_loss improved from 0.02713 to 0.02541, saving model to tmp/checkpointer.ckpt\n",
            "5/5 [==============================] - 0s 62ms/step - loss: 0.0306 - mae: 0.2150 - val_loss: 0.0254 - val_mae: 0.1958\n",
            "Epoch 11/1000\n",
            "5/5 [==============================] - ETA: 0s - loss: 0.0295 - mae: 0.2139\n",
            "Epoch 11: val_loss improved from 0.02541 to 0.02456, saving model to tmp/checkpointer.ckpt\n",
            "5/5 [==============================] - 0s 59ms/step - loss: 0.0295 - mae: 0.2139 - val_loss: 0.0246 - val_mae: 0.1961\n",
            "Epoch 12/1000\n",
            "4/5 [=======================>......] - ETA: 0s - loss: 0.0283 - mae: 0.2105\n",
            "Epoch 12: val_loss improved from 0.02456 to 0.02383, saving model to tmp/checkpointer.ckpt\n",
            "5/5 [==============================] - 0s 60ms/step - loss: 0.0286 - mae: 0.2114 - val_loss: 0.0238 - val_mae: 0.1926\n",
            "Epoch 13/1000\n",
            "4/5 [=======================>......] - ETA: 0s - loss: 0.0278 - mae: 0.2083\n",
            "Epoch 13: val_loss improved from 0.02383 to 0.02305, saving model to tmp/checkpointer.ckpt\n",
            "5/5 [==============================] - 0s 64ms/step - loss: 0.0277 - mae: 0.2080 - val_loss: 0.0231 - val_mae: 0.1893\n",
            "Epoch 14/1000\n",
            "5/5 [==============================] - ETA: 0s - loss: 0.0268 - mae: 0.2040\n",
            "Epoch 14: val_loss improved from 0.02305 to 0.02238, saving model to tmp/checkpointer.ckpt\n",
            "5/5 [==============================] - 0s 55ms/step - loss: 0.0268 - mae: 0.2040 - val_loss: 0.0224 - val_mae: 0.1849\n",
            "Epoch 15/1000\n",
            "5/5 [==============================] - ETA: 0s - loss: 0.0259 - mae: 0.1991\n",
            "Epoch 15: val_loss improved from 0.02238 to 0.02190, saving model to tmp/checkpointer.ckpt\n",
            "5/5 [==============================] - 0s 60ms/step - loss: 0.0259 - mae: 0.1991 - val_loss: 0.0219 - val_mae: 0.1796\n",
            "Epoch 16/1000\n",
            "4/5 [=======================>......] - ETA: 0s - loss: 0.0258 - mae: 0.1967\n",
            "Epoch 16: val_loss improved from 0.02190 to 0.02136, saving model to tmp/checkpointer.ckpt\n",
            "5/5 [==============================] - 0s 61ms/step - loss: 0.0253 - mae: 0.1946 - val_loss: 0.0214 - val_mae: 0.1751\n",
            "Epoch 17/1000\n",
            "5/5 [==============================] - ETA: 0s - loss: 0.0245 - mae: 0.1900\n",
            "Epoch 17: val_loss improved from 0.02136 to 0.02033, saving model to tmp/checkpointer.ckpt\n",
            "5/5 [==============================] - 0s 62ms/step - loss: 0.0245 - mae: 0.1900 - val_loss: 0.0203 - val_mae: 0.1725\n",
            "Epoch 18/1000\n",
            "5/5 [==============================] - ETA: 0s - loss: 0.0233 - mae: 0.1867\n",
            "Epoch 18: val_loss improved from 0.02033 to 0.01899, saving model to tmp/checkpointer.ckpt\n",
            "5/5 [==============================] - 0s 60ms/step - loss: 0.0233 - mae: 0.1867 - val_loss: 0.0190 - val_mae: 0.1716\n",
            "Epoch 19/1000\n",
            "5/5 [==============================] - ETA: 0s - loss: 0.0221 - mae: 0.1839\n",
            "Epoch 19: val_loss improved from 0.01899 to 0.01799, saving model to tmp/checkpointer.ckpt\n",
            "5/5 [==============================] - 0s 60ms/step - loss: 0.0221 - mae: 0.1839 - val_loss: 0.0180 - val_mae: 0.1693\n",
            "Epoch 20/1000\n",
            "4/5 [=======================>......] - ETA: 0s - loss: 0.0212 - mae: 0.1813\n",
            "Epoch 20: val_loss improved from 0.01799 to 0.01704, saving model to tmp/checkpointer.ckpt\n",
            "5/5 [==============================] - 0s 63ms/step - loss: 0.0211 - mae: 0.1809 - val_loss: 0.0170 - val_mae: 0.1678\n",
            "Epoch 21/1000\n",
            "4/5 [=======================>......] - ETA: 0s - loss: 0.0205 - mae: 0.1795\n",
            "Epoch 21: val_loss improved from 0.01704 to 0.01614, saving model to tmp/checkpointer.ckpt\n",
            "5/5 [==============================] - 0s 62ms/step - loss: 0.0201 - mae: 0.1775 - val_loss: 0.0161 - val_mae: 0.1640\n",
            "Epoch 22/1000\n",
            "5/5 [==============================] - ETA: 0s - loss: 0.0191 - mae: 0.1724\n",
            "Epoch 22: val_loss improved from 0.01614 to 0.01527, saving model to tmp/checkpointer.ckpt\n",
            "5/5 [==============================] - 0s 60ms/step - loss: 0.0191 - mae: 0.1724 - val_loss: 0.0153 - val_mae: 0.1583\n",
            "Epoch 23/1000\n",
            "4/5 [=======================>......] - ETA: 0s - loss: 0.0182 - mae: 0.1666\n",
            "Epoch 23: val_loss improved from 0.01527 to 0.01455, saving model to tmp/checkpointer.ckpt\n",
            "5/5 [==============================] - 0s 102ms/step - loss: 0.0181 - mae: 0.1664 - val_loss: 0.0146 - val_mae: 0.1519\n",
            "Epoch 24/1000\n",
            "4/5 [=======================>......] - ETA: 0s - loss: 0.0166 - mae: 0.1574\n",
            "Epoch 24: val_loss improved from 0.01455 to 0.01359, saving model to tmp/checkpointer.ckpt\n",
            "5/5 [==============================] - 0s 97ms/step - loss: 0.0171 - mae: 0.1594 - val_loss: 0.0136 - val_mae: 0.1476\n",
            "Epoch 25/1000\n",
            "4/5 [=======================>......] - ETA: 0s - loss: 0.0164 - mae: 0.1574\n",
            "Epoch 25: val_loss improved from 0.01359 to 0.01254, saving model to tmp/checkpointer.ckpt\n",
            "5/5 [==============================] - 0s 101ms/step - loss: 0.0160 - mae: 0.1548 - val_loss: 0.0125 - val_mae: 0.1446\n",
            "Epoch 26/1000\n",
            "4/5 [=======================>......] - ETA: 0s - loss: 0.0151 - mae: 0.1506\n",
            "Epoch 26: val_loss improved from 0.01254 to 0.01173, saving model to tmp/checkpointer.ckpt\n",
            "5/5 [==============================] - 1s 102ms/step - loss: 0.0149 - mae: 0.1499 - val_loss: 0.0117 - val_mae: 0.1401\n",
            "Epoch 27/1000\n",
            "5/5 [==============================] - ETA: 0s - loss: 0.0140 - mae: 0.1440\n",
            "Epoch 27: val_loss improved from 0.01173 to 0.01107, saving model to tmp/checkpointer.ckpt\n",
            "5/5 [==============================] - 0s 97ms/step - loss: 0.0140 - mae: 0.1440 - val_loss: 0.0111 - val_mae: 0.1338\n",
            "Epoch 28/1000\n",
            "4/5 [=======================>......] - ETA: 0s - loss: 0.0134 - mae: 0.1388\n",
            "Epoch 28: val_loss improved from 0.01107 to 0.01034, saving model to tmp/checkpointer.ckpt\n",
            "5/5 [==============================] - 0s 96ms/step - loss: 0.0131 - mae: 0.1373 - val_loss: 0.0103 - val_mae: 0.1286\n",
            "Epoch 29/1000\n",
            "4/5 [=======================>......] - ETA: 0s - loss: 0.0123 - mae: 0.1318\n",
            "Epoch 29: val_loss improved from 0.01034 to 0.00955, saving model to tmp/checkpointer.ckpt\n",
            "5/5 [==============================] - 0s 97ms/step - loss: 0.0122 - mae: 0.1315 - val_loss: 0.0095 - val_mae: 0.1254\n",
            "Epoch 30/1000\n",
            "4/5 [=======================>......] - ETA: 0s - loss: 0.0111 - mae: 0.1256\n",
            "Epoch 30: val_loss improved from 0.00955 to 0.00888, saving model to tmp/checkpointer.ckpt\n",
            "5/5 [==============================] - 0s 97ms/step - loss: 0.0113 - mae: 0.1270 - val_loss: 0.0089 - val_mae: 0.1214\n",
            "Epoch 31/1000\n",
            "5/5 [==============================] - ETA: 0s - loss: 0.0104 - mae: 0.1215\n",
            "Epoch 31: val_loss improved from 0.00888 to 0.00827, saving model to tmp/checkpointer.ckpt\n",
            "5/5 [==============================] - 1s 104ms/step - loss: 0.0104 - mae: 0.1215 - val_loss: 0.0083 - val_mae: 0.1168\n",
            "Epoch 32/1000\n",
            "5/5 [==============================] - ETA: 0s - loss: 0.0096 - mae: 0.1159\n",
            "Epoch 32: val_loss improved from 0.00827 to 0.00774, saving model to tmp/checkpointer.ckpt\n",
            "5/5 [==============================] - 1s 113ms/step - loss: 0.0096 - mae: 0.1159 - val_loss: 0.0077 - val_mae: 0.1121\n",
            "Epoch 33/1000\n",
            "5/5 [==============================] - ETA: 0s - loss: 0.0089 - mae: 0.1106\n",
            "Epoch 33: val_loss improved from 0.00774 to 0.00725, saving model to tmp/checkpointer.ckpt\n",
            "5/5 [==============================] - 0s 105ms/step - loss: 0.0089 - mae: 0.1106 - val_loss: 0.0073 - val_mae: 0.1069\n",
            "Epoch 34/1000\n",
            "4/5 [=======================>......] - ETA: 0s - loss: 0.0081 - mae: 0.1039\n",
            "Epoch 34: val_loss improved from 0.00725 to 0.00679, saving model to tmp/checkpointer.ckpt\n",
            "5/5 [==============================] - 0s 100ms/step - loss: 0.0082 - mae: 0.1044 - val_loss: 0.0068 - val_mae: 0.1011\n",
            "Epoch 35/1000\n",
            "5/5 [==============================] - ETA: 0s - loss: 0.0077 - mae: 0.0986\n",
            "Epoch 35: val_loss improved from 0.00679 to 0.00642, saving model to tmp/checkpointer.ckpt\n",
            "5/5 [==============================] - 1s 113ms/step - loss: 0.0077 - mae: 0.0986 - val_loss: 0.0064 - val_mae: 0.0990\n",
            "Epoch 36/1000\n",
            "4/5 [=======================>......] - ETA: 0s - loss: 0.0072 - mae: 0.0936\n",
            "Epoch 36: val_loss improved from 0.00642 to 0.00617, saving model to tmp/checkpointer.ckpt\n",
            "5/5 [==============================] - 0s 66ms/step - loss: 0.0071 - mae: 0.0935 - val_loss: 0.0062 - val_mae: 0.0960\n",
            "Epoch 37/1000\n",
            "5/5 [==============================] - ETA: 0s - loss: 0.0067 - mae: 0.0900\n",
            "Epoch 37: val_loss improved from 0.00617 to 0.00603, saving model to tmp/checkpointer.ckpt\n",
            "5/5 [==============================] - 0s 58ms/step - loss: 0.0067 - mae: 0.0900 - val_loss: 0.0060 - val_mae: 0.0928\n",
            "Epoch 38/1000\n",
            "4/5 [=======================>......] - ETA: 0s - loss: 0.0065 - mae: 0.0883\n",
            "Epoch 38: val_loss improved from 0.00603 to 0.00581, saving model to tmp/checkpointer.ckpt\n",
            "5/5 [==============================] - 0s 66ms/step - loss: 0.0063 - mae: 0.0862 - val_loss: 0.0058 - val_mae: 0.0917\n",
            "Epoch 39/1000\n",
            "4/5 [=======================>......] - ETA: 0s - loss: 0.0060 - mae: 0.0834\n",
            "Epoch 39: val_loss improved from 0.00581 to 0.00567, saving model to tmp/checkpointer.ckpt\n",
            "5/5 [==============================] - 0s 66ms/step - loss: 0.0060 - mae: 0.0838 - val_loss: 0.0057 - val_mae: 0.0903\n",
            "Epoch 40/1000\n",
            "5/5 [==============================] - ETA: 0s - loss: 0.0058 - mae: 0.0820\n",
            "Epoch 40: val_loss improved from 0.00567 to 0.00557, saving model to tmp/checkpointer.ckpt\n",
            "5/5 [==============================] - 0s 59ms/step - loss: 0.0058 - mae: 0.0820 - val_loss: 0.0056 - val_mae: 0.0891\n",
            "Epoch 41/1000\n",
            "5/5 [==============================] - ETA: 0s - loss: 0.0056 - mae: 0.0807\n",
            "Epoch 41: val_loss improved from 0.00557 to 0.00551, saving model to tmp/checkpointer.ckpt\n",
            "5/5 [==============================] - 0s 62ms/step - loss: 0.0056 - mae: 0.0807 - val_loss: 0.0055 - val_mae: 0.0878\n",
            "Epoch 42/1000\n",
            "4/5 [=======================>......] - ETA: 0s - loss: 0.0055 - mae: 0.0803\n",
            "Epoch 42: val_loss improved from 0.00551 to 0.00551, saving model to tmp/checkpointer.ckpt\n",
            "5/5 [==============================] - 0s 64ms/step - loss: 0.0054 - mae: 0.0799 - val_loss: 0.0055 - val_mae: 0.0861\n",
            "Epoch 43/1000\n",
            "5/5 [==============================] - ETA: 0s - loss: 0.0053 - mae: 0.0785\n",
            "Epoch 43: val_loss did not improve from 0.00551\n",
            "5/5 [==============================] - 0s 55ms/step - loss: 0.0053 - mae: 0.0785 - val_loss: 0.0057 - val_mae: 0.0833\n",
            "Epoch 44/1000\n",
            "4/5 [=======================>......] - ETA: 0s - loss: 0.0052 - mae: 0.0770\n",
            "Epoch 44: val_loss did not improve from 0.00551\n",
            "5/5 [==============================] - 0s 54ms/step - loss: 0.0052 - mae: 0.0778 - val_loss: 0.0056 - val_mae: 0.0824\n",
            "Epoch 45/1000\n",
            "4/5 [=======================>......] - ETA: 0s - loss: 0.0053 - mae: 0.0792\n",
            "Epoch 45: val_loss improved from 0.00551 to 0.00549, saving model to tmp/checkpointer.ckpt\n",
            "5/5 [==============================] - 0s 70ms/step - loss: 0.0051 - mae: 0.0772 - val_loss: 0.0055 - val_mae: 0.0828\n",
            "Epoch 46/1000\n",
            "4/5 [=======================>......] - ETA: 0s - loss: 0.0051 - mae: 0.0774\n",
            "Epoch 46: val_loss improved from 0.00549 to 0.00545, saving model to tmp/checkpointer.ckpt\n",
            "5/5 [==============================] - 0s 98ms/step - loss: 0.0050 - mae: 0.0771 - val_loss: 0.0055 - val_mae: 0.0825\n",
            "Epoch 47/1000\n",
            "4/5 [=======================>......] - ETA: 0s - loss: 0.0051 - mae: 0.0774\n",
            "Epoch 47: val_loss did not improve from 0.00545\n",
            "5/5 [==============================] - 0s 84ms/step - loss: 0.0050 - mae: 0.0768 - val_loss: 0.0055 - val_mae: 0.0811\n",
            "Epoch 48/1000\n",
            "4/5 [=======================>......] - ETA: 0s - loss: 0.0048 - mae: 0.0740\n",
            "Epoch 48: val_loss did not improve from 0.00545\n",
            "5/5 [==============================] - 0s 90ms/step - loss: 0.0049 - mae: 0.0759 - val_loss: 0.0057 - val_mae: 0.0809\n",
            "Epoch 49/1000\n",
            "5/5 [==============================] - ETA: 0s - loss: 0.0049 - mae: 0.0758\n",
            "Epoch 49: val_loss did not improve from 0.00545\n",
            "5/5 [==============================] - 0s 90ms/step - loss: 0.0049 - mae: 0.0758 - val_loss: 0.0056 - val_mae: 0.0809\n",
            "Epoch 50/1000\n",
            "4/5 [=======================>......] - ETA: 0s - loss: 0.0048 - mae: 0.0757\n",
            "Epoch 50: val_loss did not improve from 0.00545\n",
            "5/5 [==============================] - 0s 90ms/step - loss: 0.0048 - mae: 0.0755 - val_loss: 0.0055 - val_mae: 0.0809\n",
            "Epoch 51/1000\n",
            "5/5 [==============================] - ETA: 0s - loss: 0.0048 - mae: 0.0760\n",
            "Epoch 51: val_loss improved from 0.00545 to 0.00540, saving model to tmp/checkpointer.ckpt\n",
            "5/5 [==============================] - 1s 108ms/step - loss: 0.0048 - mae: 0.0760 - val_loss: 0.0054 - val_mae: 0.0809\n",
            "Epoch 52/1000\n",
            "4/5 [=======================>......] - ETA: 0s - loss: 0.0050 - mae: 0.0789\n",
            "Epoch 52: val_loss improved from 0.00540 to 0.00537, saving model to tmp/checkpointer.ckpt\n",
            "5/5 [==============================] - 1s 110ms/step - loss: 0.0048 - mae: 0.0768 - val_loss: 0.0054 - val_mae: 0.0809\n",
            "Epoch 53/1000\n",
            "4/5 [=======================>......] - ETA: 0s - loss: 0.0049 - mae: 0.0770\n",
            "Epoch 53: val_loss did not improve from 0.00537\n",
            "5/5 [==============================] - 0s 89ms/step - loss: 0.0048 - mae: 0.0762 - val_loss: 0.0054 - val_mae: 0.0807\n",
            "Epoch 54/1000\n",
            "4/5 [=======================>......] - ETA: 0s - loss: 0.0048 - mae: 0.0757\n",
            "Epoch 54: val_loss did not improve from 0.00537\n",
            "5/5 [==============================] - 0s 92ms/step - loss: 0.0047 - mae: 0.0750 - val_loss: 0.0056 - val_mae: 0.0804\n",
            "Epoch 55/1000\n",
            "5/5 [==============================] - ETA: 0s - loss: 0.0047 - mae: 0.0744\n",
            "Epoch 55: val_loss did not improve from 0.00537\n",
            "5/5 [==============================] - 0s 99ms/step - loss: 0.0047 - mae: 0.0744 - val_loss: 0.0057 - val_mae: 0.0803\n",
            "Epoch 56/1000\n",
            "4/5 [=======================>......] - ETA: 0s - loss: 0.0047 - mae: 0.0746\n",
            "Epoch 56: val_loss did not improve from 0.00537\n",
            "5/5 [==============================] - 0s 85ms/step - loss: 0.0047 - mae: 0.0745 - val_loss: 0.0055 - val_mae: 0.0803\n",
            "Epoch 57/1000\n",
            "5/5 [==============================] - ETA: 0s - loss: 0.0046 - mae: 0.0743\n",
            "Epoch 57: val_loss did not improve from 0.00537\n",
            "5/5 [==============================] - 0s 95ms/step - loss: 0.0046 - mae: 0.0743 - val_loss: 0.0055 - val_mae: 0.0802\n",
            "Epoch 58/1000\n",
            "4/5 [=======================>......] - ETA: 0s - loss: 0.0045 - mae: 0.0735\n",
            "Epoch 58: val_loss did not improve from 0.00537\n",
            "5/5 [==============================] - 0s 92ms/step - loss: 0.0046 - mae: 0.0739 - val_loss: 0.0055 - val_mae: 0.0801\n",
            "Epoch 59/1000\n",
            "5/5 [==============================] - ETA: 0s - loss: 0.0046 - mae: 0.0737\n",
            "Epoch 59: val_loss did not improve from 0.00537\n",
            "5/5 [==============================] - 0s 100ms/step - loss: 0.0046 - mae: 0.0737 - val_loss: 0.0054 - val_mae: 0.0801\n",
            "Epoch 60/1000\n",
            "4/5 [=======================>......] - ETA: 0s - loss: 0.0046 - mae: 0.0742\n",
            "Epoch 60: val_loss did not improve from 0.00537\n",
            "5/5 [==============================] - 0s 58ms/step - loss: 0.0045 - mae: 0.0737 - val_loss: 0.0055 - val_mae: 0.0800\n",
            "Epoch 61/1000\n",
            "5/5 [==============================] - ETA: 0s - loss: 0.0045 - mae: 0.0733\n",
            "Epoch 61: val_loss did not improve from 0.00537\n",
            "5/5 [==============================] - 0s 53ms/step - loss: 0.0045 - mae: 0.0733 - val_loss: 0.0055 - val_mae: 0.0798\n",
            "Epoch 62/1000\n",
            "5/5 [==============================] - ETA: 0s - loss: 0.0045 - mae: 0.0731\n",
            "Epoch 62: val_loss did not improve from 0.00537\n",
            "5/5 [==============================] - 0s 91ms/step - loss: 0.0045 - mae: 0.0731 - val_loss: 0.0054 - val_mae: 0.0798\n"
          ]
        }
      ]
    },
    {
      "cell_type": "code",
      "source": [
        "y_vloss = history.history['val_loss']\n",
        "y_loss = history.history['loss']\n",
        "\n",
        "x_len = np.arange(len(y_loss))\n",
        "plt.figure(figsize=(12,9))\n",
        "plt.plot(x_len, y_vloss, marker = '.', c = 'red', label = 'Validation set loss')\n",
        "plt.plot(x_len, y_loss, marker = '.', c='blue', label = 'Train set loss')\n",
        "\n",
        "plt.legend(loc = 'upper right')\n",
        "plt.grid()\n",
        "plt.xlabel('epochs')\n",
        "plt.ylabel('loss')\n",
        "plt.show()"
      ],
      "metadata": {
        "colab": {
          "base_uri": "https://localhost:8080/",
          "height": 478
        },
        "id": "igKI_VhvZG0o",
        "outputId": "a9cd86ce-5e34-427f-aee4-3226eaa7621d"
      },
      "execution_count": 289,
      "outputs": [
        {
          "output_type": "display_data",
          "data": {
            "text/plain": [
              "<Figure size 864x648 with 1 Axes>"
            ],
            "image/png": "[encoded data removed]"
          },
          "metadata": {
            "needs_background": "light"
          }
        }
      ]
    },
    {
      "cell_type": "code",
      "source": [
        "model.load_weights(filename)"
      ],
      "metadata": {
        "colab": {
          "base_uri": "https://localhost:8080/"
        },
        "id": "YJRpHOTxZ_MR",
        "outputId": "720c5dd0-5078-426a-95a5-8cc91586c485"
      },
      "execution_count": 290,
      "outputs": [
        {
          "output_type": "execute_result",
          "data": {
            "text/plain": [
              "<tensorflow.python.checkpoint.checkpoint.CheckpointLoadStatus at 0x7fb205c9b880>"
            ]
          },
          "metadata": {},
          "execution_count": 290
        }
      ]
    },
    {
      "cell_type": "code",
      "source": [
        "pred = model.predict(test_feature)"
      ],
      "metadata": {
        "colab": {
          "base_uri": "https://localhost:8080/"
        },
        "id": "Iddw2pjtaIY8",
        "outputId": "7b6391bd-a357-4a2b-df67-e8cc3ddad089"
      },
      "execution_count": 291,
      "outputs": [
        {
          "output_type": "stream",
          "name": "stdout",
          "text": [
            "1/1 [==============================] - 2s 2s/step\n"
          ]
        }
      ]
    },
    {
      "cell_type": "code",
      "source": [
        "empty = np.empty((len(y)-1,1))\n",
        "empty[:] = np.nan"
      ],
      "metadata": {
        "id": "9uRb0n8DaL0E"
      },
      "execution_count": 292,
      "outputs": []
    },
    {
      "cell_type": "code",
      "source": [
        "df = pd.DataFrame(scaler.inverse_transform(scaled), columns = columns)\n",
        "y = df.loc[:, df.columns == target][lag:]\n",
        "y.index = rng"
      ],
      "metadata": {
        "id": "O5qlgYYTgSwU"
      },
      "execution_count": 293,
      "outputs": []
    },
    {
      "cell_type": "code",
      "source": [
        "pred = pred * scale + mini\n",
        "pred"
      ],
      "metadata": {
        "colab": {
          "base_uri": "https://localhost:8080/"
        },
        "id": "rvrD9D_iggfP",
        "outputId": "30b2b564-a6d4-49b3-abd5-d8dc3cb921e6"
      },
      "execution_count": 294,
      "outputs": [
        {
          "output_type": "execute_result",
          "data": {
            "text/plain": [
              "array([[33385.805],\n",
              "       [33535.914],\n",
              "       [33788.97 ],\n",
              "       [33938.11 ],\n",
              "       [34136.42 ],\n",
              "       [34129.6  ]], dtype=float32)"
            ]
          },
          "metadata": {},
          "execution_count": 294
        }
      ]
    },
    {
      "cell_type": "code",
      "source": [
        "pred1=pd.DataFrame(pred)\n",
        "pred1.columns = ['dji_pred']\n",
        "pred1"
      ],
      "metadata": {
        "colab": {
          "base_uri": "https://localhost:8080/",
          "height": 237
        },
        "id": "UHQyJDKb3iy6",
        "outputId": "e516572a-9742-459b-b46f-e77d791eb930"
      },
      "execution_count": 312,
      "outputs": [
        {
          "output_type": "execute_result",
          "data": {
            "text/plain": [
              "       dji_pred\n",
              "0  33385.804688\n",
              "1  33535.914062\n",
              "2  33788.968750\n",
              "3  33938.109375\n",
              "4  34136.421875\n",
              "5  34129.601562"
            ],
            "text/html": [
              "\n",
              "  <div id=\"df-9e33dc6c-6ff8-4951-90b8-afa82b883eb8\">\n",
              "    <div class=\"colab-df-container\">\n",
              "      <div>\n",
              "<style scoped>\n",
              "    .dataframe tbody tr th:only-of-type {\n",
              "        vertical-align: middle;\n",
              "    }\n",
              "\n",
              "    .dataframe tbody tr th {\n",
              "        vertical-align: top;\n",
              "    }\n",
              "\n",
              "    .dataframe thead th {\n",
              "        text-align: right;\n",
              "    }\n",
              "</style>\n",
              "<table border=\"1\" class=\"dataframe\">\n",
              "  <thead>\n",
              "    <tr style=\"text-align: right;\">\n",
              "      <th></th>\n",
              "      <th>dji_pred</th>\n",
              "    </tr>\n",
              "  </thead>\n",
              "  <tbody>\n",
              "    <tr>\n",
              "      <th>0</th>\n",
              "      <td>33385.804688</td>\n",
              "    </tr>\n",
              "    <tr>\n",
              "      <th>1</th>\n",
              "      <td>33535.914062</td>\n",
              "    </tr>\n",
              "    <tr>\n",
              "      <th>2</th>\n",
              "      <td>33788.968750</td>\n",
              "    </tr>\n",
              "    <tr>\n",
              "      <th>3</th>\n",
              "      <td>33938.109375</td>\n",
              "    </tr>\n",
              "    <tr>\n",
              "      <th>4</th>\n",
              "      <td>34136.421875</td>\n",
              "    </tr>\n",
              "    <tr>\n",
              "      <th>5</th>\n",
              "      <td>34129.601562</td>\n",
              "    </tr>\n",
              "  </tbody>\n",
              "</table>\n",
              "</div>\n",
              "      <button class=\"colab-df-convert\" onclick=\"convertToInteractive('df-9e33dc6c-6ff8-4951-90b8-afa82b883eb8')\"\n",
              "              title=\"Convert this dataframe to an interactive table.\"\n",
              "              style=\"display:none;\">\n",
              "        \n",
              "  <svg xmlns=\"http://www.w3.org/2000/svg\" height=\"24px\"viewBox=\"0 0 24 24\"\n",
              "       width=\"24px\">\n",
              "    <path d=\"M0 0h24v24H0V0z\" fill=\"none\"/>\n",
              "    <path d=\"M18.56 5.44l.94 2.06.94-2.06 2.06-.94-2.06-.94-.94-2.06-.94 2.06-2.06.94zm-11 1L8.5 8.5l.94-2.06 2.06-.94-2.06-.94L8.5 2.5l-.94 2.06-2.06.94zm10 10l.94 2.06.94-2.06 2.06-.94-2.06-.94-.94-2.06-.94 2.06-2.06.94z\"/><path d=\"M17.41 7.96l-1.37-1.37c-.4-.4-.92-.59-1.43-.59-.52 0-1.04.2-1.43.59L10.3 9.45l-7.72 7.72c-.78.78-.78 2.05 0 2.83L4 21.41c.39.39.9.59 1.41.59.51 0 1.02-.2 1.41-.59l7.78-7.78 2.81-2.81c.8-.78.8-2.07 0-2.86zM5.41 20L4 18.59l7.72-7.72 1.47 1.35L5.41 20z\"/>\n",
              "  </svg>\n",
              "      </button>\n",
              "      \n",
              "  <style>\n",
              "    .colab-df-container {\n",
              "      display:flex;\n",
              "      flex-wrap:wrap;\n",
              "      gap: 12px;\n",
              "    }\n",
              "\n",
              "    .colab-df-convert {\n",
              "      background-color: #E8F0FE;\n",
              "      border: none;\n",
              "      border-radius: 50%;\n",
              "      cursor: pointer;\n",
              "      display: none;\n",
              "      fill: #1967D2;\n",
              "      height: 32px;\n",
              "      padding: 0 0 0 0;\n",
              "      width: 32px;\n",
              "    }\n",
              "\n",
              "    .colab-df-convert:hover {\n",
              "      background-color: #E2EBFA;\n",
              "      box-shadow: 0px 1px 2px rgba(60, 64, 67, 0.3), 0px 1px 3px 1px rgba(60, 64, 67, 0.15);\n",
              "      fill: #174EA6;\n",
              "    }\n",
              "\n",
              "    [theme=dark] .colab-df-convert {\n",
              "      background-color: #3B4455;\n",
              "      fill: #D2E3FC;\n",
              "    }\n",
              "\n",
              "    [theme=dark] .colab-df-convert:hover {\n",
              "      background-color: #434B5C;\n",
              "      box-shadow: 0px 1px 3px 1px rgba(0, 0, 0, 0.15);\n",
              "      filter: drop-shadow(0px 1px 2px rgba(0, 0, 0, 0.3));\n",
              "      fill: #FFFFFF;\n",
              "    }\n",
              "  </style>\n",
              "\n",
              "      <script>\n",
              "        const buttonEl =\n",
              "          document.querySelector('#df-9e33dc6c-6ff8-4951-90b8-afa82b883eb8 button.colab-df-convert');\n",
              "        buttonEl.style.display =\n",
              "          google.colab.kernel.accessAllowed ? 'block' : 'none';\n",
              "\n",
              "        async function convertToInteractive(key) {\n",
              "          const element = document.querySelector('#df-9e33dc6c-6ff8-4951-90b8-afa82b883eb8');\n",
              "          const dataTable =\n",
              "            await google.colab.kernel.invokeFunction('convertToInteractive',\n",
              "                                                     [key], {});\n",
              "          if (!dataTable) return;\n",
              "\n",
              "          const docLinkHtml = 'Like what you see? Visit the ' +\n",
              "            '<a target=\"_blank\" href=https://colab.research.google.com/notebooks/data_table.ipynb>data table notebook</a>'\n",
              "            + ' to learn more about interactive tables.';\n",
              "          element.innerHTML = '';\n",
              "          dataTable['output_type'] = 'display_data';\n",
              "          await google.colab.output.renderOutput(dataTable, element);\n",
              "          const docLink = document.createElement('div');\n",
              "          docLink.innerHTML = docLinkHtml;\n",
              "          element.appendChild(docLink);\n",
              "        }\n",
              "      </script>\n",
              "    </div>\n",
              "  </div>\n",
              "  "
            ]
          },
          "metadata": {},
          "execution_count": 312
        }
      ]
    },
    {
      "cell_type": "code",
      "source": [
        "actual1 = y.iloc[-6:]\n",
        "actual1"
      ],
      "metadata": {
        "colab": {
          "base_uri": "https://localhost:8080/",
          "height": 237
        },
        "id": "PQUB0kbW3nef",
        "outputId": "7856e317-7031-4f41-f52c-541a5d29740f"
      },
      "execution_count": 300,
      "outputs": [
        {
          "output_type": "execute_result",
          "data": {
            "text/plain": [
              "                 dji\n",
              "2022-08-31  31511.09\n",
              "2022-09-30  28730.12\n",
              "2022-10-31  32734.40\n",
              "2022-11-30  34587.46\n",
              "2022-12-31  33147.28\n",
              "2023-01-31  34086.89"
            ],
            "text/html": [
              "\n",
              "  <div id=\"df-afac2b8f-3b1b-474d-8682-a79d3073fba8\">\n",
              "    <div class=\"colab-df-container\">\n",
              "      <div>\n",
              "<style scoped>\n",
              "    .dataframe tbody tr th:only-of-type {\n",
              "        vertical-align: middle;\n",
              "    }\n",
              "\n",
              "    .dataframe tbody tr th {\n",
              "        vertical-align: top;\n",
              "    }\n",
              "\n",
              "    .dataframe thead th {\n",
              "        text-align: right;\n",
              "    }\n",
              "</style>\n",
              "<table border=\"1\" class=\"dataframe\">\n",
              "  <thead>\n",
              "    <tr style=\"text-align: right;\">\n",
              "      <th></th>\n",
              "      <th>dji</th>\n",
              "    </tr>\n",
              "  </thead>\n",
              "  <tbody>\n",
              "    <tr>\n",
              "      <th>2022-08-31</th>\n",
              "      <td>31511.09</td>\n",
              "    </tr>\n",
              "    <tr>\n",
              "      <th>2022-09-30</th>\n",
              "      <td>28730.12</td>\n",
              "    </tr>\n",
              "    <tr>\n",
              "      <th>2022-10-31</th>\n",
              "      <td>32734.40</td>\n",
              "    </tr>\n",
              "    <tr>\n",
              "      <th>2022-11-30</th>\n",
              "      <td>34587.46</td>\n",
              "    </tr>\n",
              "    <tr>\n",
              "      <th>2022-12-31</th>\n",
              "      <td>33147.28</td>\n",
              "    </tr>\n",
              "    <tr>\n",
              "      <th>2023-01-31</th>\n",
              "      <td>34086.89</td>\n",
              "    </tr>\n",
              "  </tbody>\n",
              "</table>\n",
              "</div>\n",
              "      <button class=\"colab-df-convert\" onclick=\"convertToInteractive('df-afac2b8f-3b1b-474d-8682-a79d3073fba8')\"\n",
              "              title=\"Convert this dataframe to an interactive table.\"\n",
              "              style=\"display:none;\">\n",
              "        \n",
              "  <svg xmlns=\"http://www.w3.org/2000/svg\" height=\"24px\"viewBox=\"0 0 24 24\"\n",
              "       width=\"24px\">\n",
              "    <path d=\"M0 0h24v24H0V0z\" fill=\"none\"/>\n",
              "    <path d=\"M18.56 5.44l.94 2.06.94-2.06 2.06-.94-2.06-.94-.94-2.06-.94 2.06-2.06.94zm-11 1L8.5 8.5l.94-2.06 2.06-.94-2.06-.94L8.5 2.5l-.94 2.06-2.06.94zm10 10l.94 2.06.94-2.06 2.06-.94-2.06-.94-.94-2.06-.94 2.06-2.06.94z\"/><path d=\"M17.41 7.96l-1.37-1.37c-.4-.4-.92-.59-1.43-.59-.52 0-1.04.2-1.43.59L10.3 9.45l-7.72 7.72c-.78.78-.78 2.05 0 2.83L4 21.41c.39.39.9.59 1.41.59.51 0 1.02-.2 1.41-.59l7.78-7.78 2.81-2.81c.8-.78.8-2.07 0-2.86zM5.41 20L4 18.59l7.72-7.72 1.47 1.35L5.41 20z\"/>\n",
              "  </svg>\n",
              "      </button>\n",
              "      \n",
              "  <style>\n",
              "    .colab-df-container {\n",
              "      display:flex;\n",
              "      flex-wrap:wrap;\n",
              "      gap: 12px;\n",
              "    }\n",
              "\n",
              "    .colab-df-convert {\n",
              "      background-color: #E8F0FE;\n",
              "      border: none;\n",
              "      border-radius: 50%;\n",
              "      cursor: pointer;\n",
              "      display: none;\n",
              "      fill: #1967D2;\n",
              "      height: 32px;\n",
              "      padding: 0 0 0 0;\n",
              "      width: 32px;\n",
              "    }\n",
              "\n",
              "    .colab-df-convert:hover {\n",
              "      background-color: #E2EBFA;\n",
              "      box-shadow: 0px 1px 2px rgba(60, 64, 67, 0.3), 0px 1px 3px 1px rgba(60, 64, 67, 0.15);\n",
              "      fill: #174EA6;\n",
              "    }\n",
              "\n",
              "    [theme=dark] .colab-df-convert {\n",
              "      background-color: #3B4455;\n",
              "      fill: #D2E3FC;\n",
              "    }\n",
              "\n",
              "    [theme=dark] .colab-df-convert:hover {\n",
              "      background-color: #434B5C;\n",
              "      box-shadow: 0px 1px 3px 1px rgba(0, 0, 0, 0.15);\n",
              "      filter: drop-shadow(0px 1px 2px rgba(0, 0, 0, 0.3));\n",
              "      fill: #FFFFFF;\n",
              "    }\n",
              "  </style>\n",
              "\n",
              "      <script>\n",
              "        const buttonEl =\n",
              "          document.querySelector('#df-afac2b8f-3b1b-474d-8682-a79d3073fba8 button.colab-df-convert');\n",
              "        buttonEl.style.display =\n",
              "          google.colab.kernel.accessAllowed ? 'block' : 'none';\n",
              "\n",
              "        async function convertToInteractive(key) {\n",
              "          const element = document.querySelector('#df-afac2b8f-3b1b-474d-8682-a79d3073fba8');\n",
              "          const dataTable =\n",
              "            await google.colab.kernel.invokeFunction('convertToInteractive',\n",
              "                                                     [key], {});\n",
              "          if (!dataTable) return;\n",
              "\n",
              "          const docLinkHtml = 'Like what you see? Visit the ' +\n",
              "            '<a target=\"_blank\" href=https://colab.research.google.com/notebooks/data_table.ipynb>data table notebook</a>'\n",
              "            + ' to learn more about interactive tables.';\n",
              "          element.innerHTML = '';\n",
              "          dataTable['output_type'] = 'display_data';\n",
              "          await google.colab.output.renderOutput(dataTable, element);\n",
              "          const docLink = document.createElement('div');\n",
              "          docLink.innerHTML = docLinkHtml;\n",
              "          element.appendChild(docLink);\n",
              "        }\n",
              "      </script>\n",
              "    </div>\n",
              "  </div>\n",
              "  "
            ]
          },
          "metadata": {},
          "execution_count": 300
        }
      ]
    },
    {
      "cell_type": "code",
      "source": [
        "# Performance\n",
        "from sklearn.metrics import mean_squared_error\n",
        "\n",
        "mse_arima = mean_squared_error(actual1['dji'].values, pred1['dji_pred'].values, squared=False)\n",
        "print('MSE: '+str(mse_arima))\n",
        "mae_arima = mean_absolute_error(actual1['dji'].values, pred1['dji_pred'].values)\n",
        "print('MAE: '+str(mae_arima))\n",
        "mape_arima = np.mean(np.abs(actual1['dji'].values - pred1['dji_pred'].values)/np.abs(actual1['dji'].values))\n",
        "print('MAPE: '+str(mape_arima)) # 4.5% of absolute gap"
      ],
      "metadata": {
        "colab": {
          "base_uri": "https://localhost:8080/"
        },
        "id": "ZHXfYwGJitVX",
        "outputId": "746a7da5-02ff-4292-ab4e-fcf743079ca3"
      },
      "execution_count": 314,
      "outputs": [
        {
          "output_type": "stream",
          "name": "stdout",
          "text": [
            "MSE: 2203.1874311174174\n",
            "MAE: 1569.380260416665\n",
            "MAPE: 0.05147524072407283\n"
          ]
        }
      ]
    },
    {
      "cell_type": "code",
      "source": [],
      "metadata": {
        "id": "S_wWrij4yoxd"
      },
      "execution_count": null,
      "outputs": []
    }
  ]
}